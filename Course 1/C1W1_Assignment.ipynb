{
 "cells": [
  {
   "cell_type": "markdown",
   "metadata": {
    "colab_type": "text",
    "id": "ZL_6GK8qX35J"
   },
   "source": [
    "\n",
    "\n",
    "# Week 1: Multiple Output Models using the Keras Functional API\n",
    "\n",
    "Welcome to the first programming assignment of the course! Your task will be to use the Keras functional API to train a model to predict two outputs. For this lab, you will use the **[Wine Quality Dataset](https://archive.ics.uci.edu/ml/datasets/Wine+Quality)** from the **UCI machine learning repository**. It has separate datasets for red wine and white wine.\n",
    "\n",
    "Normally, the wines are classified into one of the quality ratings specified in the attributes. In this exercise, you will combine the two datasets to predict the wine quality and whether the wine is red or white solely from the attributes. \n",
    "\n",
    "You will model wine quality estimations as a regression problem and wine type detection as a binary classification problem.\n",
    "\n",
    "#### Please complete sections that are marked **(TODO)**"
   ]
  },
  {
   "cell_type": "markdown",
   "metadata": {
    "colab_type": "text",
    "id": "obdcD6urYBY9"
   },
   "source": [
    "## Imports"
   ]
  },
  {
   "cell_type": "code",
   "execution_count": 4,
   "metadata": {
    "colab": {},
    "colab_type": "code",
    "id": "t8N3pcTQ5oQI"
   },
   "outputs": [],
   "source": [
    "import tensorflow as tf\n",
    "from tensorflow.keras.models import Model\n",
    "from tensorflow.keras.layers import Dense, Input\n",
    "\n",
    "import numpy as np\n",
    "import matplotlib.pyplot as plt\n",
    "import pandas as pd\n",
    "from sklearn.model_selection import train_test_split\n",
    "from sklearn.metrics import confusion_matrix\n",
    "import itertools\n",
    "\n",
    "import utils"
   ]
  },
  {
   "cell_type": "markdown",
   "metadata": {
    "colab_type": "text",
    "id": "gQMERzWQYpgm"
   },
   "source": [
    "## Load Dataset\n",
    "\n",
    "\n",
    "You will now download the dataset from the [UCI Machine Learning Repository](https://archive.ics.uci.edu/ml/index.php). \n",
    "\n",
    "### Pre-process the white wine dataset (TODO)\n",
    "You will add a new column named `is_red` in your dataframe to indicate if the wine is white or red. \n",
    "- In the white wine dataset, you will fill the column `is_red` with  zeros (0)."
   ]
  },
  {
   "cell_type": "code",
   "execution_count": 6,
   "metadata": {
    "colab": {},
    "colab_type": "code",
    "deletable": false,
    "id": "2qYAjKXCd4RH",
    "nbgrader": {
     "cell_type": "code",
     "checksum": "cb9f284ba6255170fe04a309a407d72d",
     "grade": false,
     "grade_id": "cell-e5bfa0f152d9a21f",
     "locked": false,
     "schema_version": 3,
     "solution": true,
     "task": false
    }
   },
   "outputs": [],
   "source": [
    "## Please uncomment all lines in this cell and replace those marked with `# YOUR CODE HERE`.\n",
    "## You can select all lines in this code cell with Ctrl+A (Windows/Linux) or Cmd+A (Mac), then press Ctrl+/ (Windows/Linux) or Cmd+/ (Mac) to uncomment.\n",
    "\n",
    "\n",
    "\n",
    "# URL of the white wine dataset\n",
    "URL = 'http://archive.ics.uci.edu/ml/machine-learning-databases/wine-quality/winequality-white.csv'\n",
    "\n",
    "# load the dataset from the URL\n",
    "white_df = pd.read_csv(URL, sep=\";\")\n",
    "\n",
    "# fill the `is_red` column with zeros.\n",
    "white_df[\"is_red\"] = 0\n",
    "\n",
    "# keep only the first of duplicate items\n",
    "white_df = white_df.drop_duplicates(keep='first')\n"
   ]
  },
  {
   "cell_type": "code",
   "execution_count": 7,
   "metadata": {
    "deletable": false,
    "editable": false,
    "nbgrader": {
     "cell_type": "code",
     "checksum": "defe38d6ec58fd31cd67b89e46c4373f",
     "grade": true,
     "grade_id": "cell-30575e713b55fc51",
     "locked": true,
     "points": 1,
     "schema_version": 3,
     "solution": false,
     "task": false
    }
   },
   "outputs": [
    {
     "name": "stdout",
     "output_type": "stream",
     "text": [
      "\u001b[92m All public tests passed\n"
     ]
    }
   ],
   "source": [
    "# You can click `File -> Open` in the menu above and open the `utils.py` file \n",
    "# in case you want to inspect the unit tests being used for each graded function.\n",
    "\n",
    "utils.test_white_df(white_df)\n"
   ]
  },
  {
   "cell_type": "code",
   "execution_count": 8,
   "metadata": {
    "colab": {},
    "colab_type": "code",
    "id": "OQHK0ohBQRCk"
   },
   "outputs": [
    {
     "name": "stdout",
     "output_type": "stream",
     "text": [
      "8.8\n",
      "9.1\n"
     ]
    }
   ],
   "source": [
    "print(white_df.alcohol[0])\n",
    "print(white_df.alcohol[100])\n",
    "\n",
    "# EXPECTED OUTPUT\n",
    "# 8.8\n",
    "# 9.1"
   ]
  },
  {
   "cell_type": "markdown",
   "metadata": {},
   "source": [
    "### Pre-process the red wine dataset (TODO)\n",
    "- In the red wine dataset, you will fill in the column `is_red` with ones (1)."
   ]
  },
  {
   "cell_type": "code",
   "execution_count": 9,
   "metadata": {
    "colab": {},
    "colab_type": "code",
    "deletable": false,
    "id": "8y3QxKwBed8v",
    "nbgrader": {
     "cell_type": "code",
     "checksum": "be72275f78e2c2d0038dde9aa63f8d4f",
     "grade": false,
     "grade_id": "cell-e47a40f306593274",
     "locked": false,
     "schema_version": 3,
     "solution": true,
     "task": false
    }
   },
   "outputs": [],
   "source": [
    "## Please uncomment all lines in this cell and replace those marked with `# YOUR CODE HERE`.\n",
    "## You can select all lines in this code cell with Ctrl+A (Windows/Linux) or Cmd+A (Mac), then press Ctrl+/ (Windows/Linux) or Cmd+/ (Mac) to uncomment.\n",
    "\n",
    "\n",
    "\n",
    "# URL of the red wine dataset\n",
    "URL = 'http://archive.ics.uci.edu/ml/machine-learning-databases/wine-quality/winequality-red.csv'\n",
    "\n",
    "# load the dataset from the URL\n",
    "red_df = pd.read_csv(URL, sep=\";\")\n",
    "\n",
    "# fill the `is_red` column with ones.\n",
    "red_df[\"is_red\"] = 1\n",
    "\n",
    "# keep only the first of duplicate items\n",
    "red_df = red_df.drop_duplicates(keep='first')\n"
   ]
  },
  {
   "cell_type": "code",
   "execution_count": 10,
   "metadata": {
    "deletable": false,
    "editable": false,
    "nbgrader": {
     "cell_type": "code",
     "checksum": "d8e0c91b0fd668b63ba74a8f2f958b59",
     "grade": true,
     "grade_id": "cell-2a75937adcc0c25b",
     "locked": true,
     "points": 1,
     "schema_version": 3,
     "solution": false,
     "task": false
    }
   },
   "outputs": [
    {
     "name": "stdout",
     "output_type": "stream",
     "text": [
      "\u001b[92m All public tests passed\n"
     ]
    }
   ],
   "source": [
    "utils.test_red_df(red_df)\n"
   ]
  },
  {
   "cell_type": "code",
   "execution_count": 11,
   "metadata": {
    "colab": {},
    "colab_type": "code",
    "id": "zsB3LUzNQpo_"
   },
   "outputs": [
    {
     "name": "stdout",
     "output_type": "stream",
     "text": [
      "9.4\n",
      "10.2\n"
     ]
    }
   ],
   "source": [
    "print(red_df.alcohol[0])\n",
    "print(red_df.alcohol[100])\n",
    "\n",
    "# EXPECTED OUTPUT\n",
    "# 9.4\n",
    "# 10.2"
   ]
  },
  {
   "cell_type": "markdown",
   "metadata": {
    "colab_type": "text",
    "id": "2G8B-NYuM6-f"
   },
   "source": [
    "### Concatenate the datasets\n",
    "\n",
    "Next, concatenate the red and white wine dataframes."
   ]
  },
  {
   "cell_type": "code",
   "execution_count": 15,
   "metadata": {
    "colab": {},
    "colab_type": "code",
    "id": "YpQrOjJbfN3m"
   },
   "outputs": [],
   "source": [
    "df = pd.concat([red_df, white_df], ignore_index=True)"
   ]
  },
  {
   "cell_type": "code",
   "execution_count": 16,
   "metadata": {
    "colab": {},
    "colab_type": "code",
    "id": "Se2dTmThQyjb"
   },
   "outputs": [
    {
     "name": "stdout",
     "output_type": "stream",
     "text": [
      "9.4\n",
      "9.5\n"
     ]
    }
   ],
   "source": [
    "print(df.alcohol[0])\n",
    "print(df.alcohol[100])\n",
    "\n",
    "# EXPECTED OUTPUT\n",
    "# 9.4\n",
    "# 9.5"
   ]
  },
  {
   "cell_type": "code",
   "execution_count": null,
   "metadata": {
    "colab": {},
    "colab_type": "code",
    "id": "wx6y3rPpQv4k"
   },
   "outputs": [],
   "source": [
    "# NOTE: In a real-world scenario, you should shuffle the data.\n",
    "# YOU ARE NOT going to do that here because we want to test\n",
    "# with deterministic data. But if you want the code to do it,\n",
    "# it's in the commented line below:\n",
    "\n",
    "#df = df.iloc[np.random.permutation(len(df))]"
   ]
  },
  {
   "cell_type": "markdown",
   "metadata": {
    "colab_type": "text",
    "id": "-EqIcbg5M_n1"
   },
   "source": [
    "This will chart the quality of the wines."
   ]
  },
  {
   "cell_type": "code",
   "execution_count": 17,
   "metadata": {
    "colab": {},
    "colab_type": "code",
    "id": "IsvK0-Sgy17C"
   },
   "outputs": [
    {
     "data": {
      "image/png": "[encoded data removed]",
      "text/plain": [
       "<Figure size 432x288 with 1 Axes>"
      ]
     },
     "metadata": {
      "needs_background": "light"
     },
     "output_type": "display_data"
    }
   ],
   "source": [
    "df['quality'].hist(bins=20);"
   ]
  },
  {
   "cell_type": "markdown",
   "metadata": {
    "colab_type": "text",
    "id": "Nut1rmYLzf-p"
   },
   "source": [
    "### Imbalanced data (TODO)\n",
    "You can see from the plot above that the wine quality dataset is imbalanced. \n",
    "- Since there are very few observations with quality equal to 3, 4, 8 and 9, you can drop these observations from your dataset. \n",
    "- You can do this by removing data belonging to all classes except those > 4 and < 8."
   ]
  },
  {
   "cell_type": "code",
   "execution_count": 18,
   "metadata": {
    "colab": {},
    "colab_type": "code",
    "deletable": false,
    "id": "doH9_-gnf3sz",
    "nbgrader": {
     "cell_type": "code",
     "checksum": "d9ba9fc3a3ca02ccc567be33652b80fe",
     "grade": false,
     "grade_id": "cell-6a3e9db696f6827b",
     "locked": false,
     "schema_version": 3,
     "solution": true,
     "task": false
    }
   },
   "outputs": [],
   "source": [
    "## Please uncomment all lines in this cell and replace those marked with `# YOUR CODE HERE`.\n",
    "## You can select all lines in this code cell with Ctrl+A (Windows/Linux) or Cmd+A (Mac), then press Ctrl+/ (Windows/Linux) or Cmd+/ (Mac) to uncomment.\n",
    "\n",
    "\n",
    "\n",
    "# get data with wine quality greater than 4 and less than 8\n",
    "df = df[(df['quality'] > 4) & (df['quality'] < 8 )]\n",
    "\n",
    "# reset index and drop the old one\n",
    "df = df.reset_index(drop=True)"
   ]
  },
  {
   "cell_type": "code",
   "execution_count": 19,
   "metadata": {
    "deletable": false,
    "editable": false,
    "nbgrader": {
     "cell_type": "code",
     "checksum": "281e1d86a4803560ed5892cd7eda4c01",
     "grade": true,
     "grade_id": "cell-aed3da719d4682c7",
     "locked": true,
     "points": 1,
     "schema_version": 3,
     "solution": false,
     "task": false
    }
   },
   "outputs": [
    {
     "name": "stdout",
     "output_type": "stream",
     "text": [
      "\u001b[92m All public tests passed\n"
     ]
    }
   ],
   "source": [
    "utils.test_df_drop(df)\n",
    "\n"
   ]
  },
  {
   "cell_type": "code",
   "execution_count": 20,
   "metadata": {
    "colab": {},
    "colab_type": "code",
    "id": "xNR1iAlMRPXO"
   },
   "outputs": [
    {
     "name": "stdout",
     "output_type": "stream",
     "text": [
      "9.4\n",
      "10.9\n"
     ]
    }
   ],
   "source": [
    "print(df.alcohol[0])\n",
    "print(df.alcohol[100])\n",
    "\n",
    "# EXPECTED OUTPUT\n",
    "# 9.4\n",
    "# 10.9"
   ]
  },
  {
   "cell_type": "markdown",
   "metadata": {
    "colab_type": "text",
    "id": "cwhuRpnVRTzG"
   },
   "source": [
    "You can plot again to see the new range of data and quality"
   ]
  },
  {
   "cell_type": "code",
   "execution_count": null,
   "metadata": {
    "colab": {},
    "colab_type": "code",
    "id": "857ygzZiLgGg"
   },
   "outputs": [],
   "source": [
    "df['quality'].hist(bins=20);"
   ]
  },
  {
   "cell_type": "markdown",
   "metadata": {
    "colab_type": "text",
    "id": "n3k0vqSsp84t"
   },
   "source": [
    "### Train Test Split (TODO)\n",
    "\n",
    "Next, you can split the datasets into training, test and validation datasets.\n",
    "- The data frame should be split 80:20 into `train` and `test` sets.\n",
    "- The resulting `train` should then be split 80:20 into `train` and `val` sets.\n",
    "- The `train_test_split` parameter `test_size` takes a float value that ranges between 0. and 1, and represents the proportion of the dataset that is allocated to the test set.  The rest of the data is allocated to the training set."
   ]
  },
  {
   "cell_type": "code",
   "execution_count": 21,
   "metadata": {
    "colab": {},
    "colab_type": "code",
    "deletable": false,
    "id": "PAVIf2-fgRVY",
    "nbgrader": {
     "cell_type": "code",
     "checksum": "7f5738f4fb51d65adc9a8acbdf2b9970",
     "grade": false,
     "grade_id": "cell-91946cadf745206b",
     "locked": false,
     "schema_version": 3,
     "solution": true,
     "task": false
    }
   },
   "outputs": [],
   "source": [
    "## Please uncomment all lines in this cell and replace those marked with `# YOUR CODE HERE`.\n",
    "## You can select all lines in this code cell with Ctrl+A (Windows/Linux) or Cmd+A (Mac), then press Ctrl+/ (Windows/Linux) or Cmd+/ (Mac) to uncomment.\n",
    "\n",
    "\n",
    "\n",
    "## Please do not change the random_state parameter. This is needed for grading.\n",
    "\n",
    "# split df into 80:20 train and test sets\n",
    "train, test = train_test_split(df, test_size=0.2, random_state = 1)\n",
    "                               \n",
    "# split train into 80:20 train and val sets\n",
    "train, val = train_test_split(train, test_size=0.2, random_state = 1)"
   ]
  },
  {
   "cell_type": "code",
   "execution_count": 22,
   "metadata": {
    "colab": {},
    "colab_type": "code",
    "deletable": false,
    "editable": false,
    "id": "57h9LcEzRWpk",
    "nbgrader": {
     "cell_type": "code",
     "checksum": "42adbe9e66efac7c7a5f8cd73ac92f22",
     "grade": true,
     "grade_id": "cell-64b8b38cd0b965f6",
     "locked": true,
     "points": 1,
     "schema_version": 3,
     "solution": false,
     "task": false
    }
   },
   "outputs": [
    {
     "name": "stdout",
     "output_type": "stream",
     "text": [
      "\u001b[92m All public tests passed\n"
     ]
    }
   ],
   "source": [
    "utils.test_data_sizes(train.size, test.size, val.size)\n",
    "\n"
   ]
  },
  {
   "cell_type": "markdown",
   "metadata": {
    "colab_type": "text",
    "id": "RwTNu4KFqG-K"
   },
   "source": [
    "Here's where you can explore the training stats. You can pop the labels 'is_red' and 'quality' from the data as these will be used as the labels\n"
   ]
  },
  {
   "cell_type": "code",
   "execution_count": 23,
   "metadata": {
    "colab": {},
    "colab_type": "code",
    "id": "Y_afyhhHM6WQ"
   },
   "outputs": [],
   "source": [
    "train_stats = train.describe()\n",
    "train_stats.pop('is_red')\n",
    "train_stats.pop('quality')\n",
    "train_stats = train_stats.transpose()"
   ]
  },
  {
   "cell_type": "markdown",
   "metadata": {
    "colab_type": "text",
    "id": "ahvbYm4fNqSt"
   },
   "source": [
    "Explore the training stats!"
   ]
  },
  {
   "cell_type": "code",
   "execution_count": 24,
   "metadata": {
    "colab": {},
    "colab_type": "code",
    "id": "n_gAtPjZ0otF"
   },
   "outputs": [
    {
     "data": {
      "text/html": [
       "<div>\n",
       "<style scoped>\n",
       "    .dataframe tbody tr th:only-of-type {\n",
       "        vertical-align: middle;\n",
       "    }\n",
       "\n",
       "    .dataframe tbody tr th {\n",
       "        vertical-align: top;\n",
       "    }\n",
       "\n",
       "    .dataframe thead th {\n",
       "        text-align: right;\n",
       "    }\n",
       "</style>\n",
       "<table border=\"1\" class=\"dataframe\">\n",
       "  <thead>\n",
       "    <tr style=\"text-align: right;\">\n",
       "      <th></th>\n",
       "      <th>count</th>\n",
       "      <th>mean</th>\n",
       "      <th>std</th>\n",
       "      <th>min</th>\n",
       "      <th>25%</th>\n",
       "      <th>50%</th>\n",
       "      <th>75%</th>\n",
       "      <th>max</th>\n",
       "    </tr>\n",
       "  </thead>\n",
       "  <tbody>\n",
       "    <tr>\n",
       "      <th>fixed acidity</th>\n",
       "      <td>3155.0</td>\n",
       "      <td>7.221616</td>\n",
       "      <td>1.325297</td>\n",
       "      <td>3.80000</td>\n",
       "      <td>6.40000</td>\n",
       "      <td>7.00000</td>\n",
       "      <td>7.7000</td>\n",
       "      <td>15.60000</td>\n",
       "    </tr>\n",
       "    <tr>\n",
       "      <th>volatile acidity</th>\n",
       "      <td>3155.0</td>\n",
       "      <td>0.338929</td>\n",
       "      <td>0.162476</td>\n",
       "      <td>0.08000</td>\n",
       "      <td>0.23000</td>\n",
       "      <td>0.29000</td>\n",
       "      <td>0.4000</td>\n",
       "      <td>1.24000</td>\n",
       "    </tr>\n",
       "    <tr>\n",
       "      <th>citric acid</th>\n",
       "      <td>3155.0</td>\n",
       "      <td>0.321569</td>\n",
       "      <td>0.147970</td>\n",
       "      <td>0.00000</td>\n",
       "      <td>0.25000</td>\n",
       "      <td>0.31000</td>\n",
       "      <td>0.4000</td>\n",
       "      <td>1.66000</td>\n",
       "    </tr>\n",
       "    <tr>\n",
       "      <th>residual sugar</th>\n",
       "      <td>3155.0</td>\n",
       "      <td>5.155911</td>\n",
       "      <td>4.639632</td>\n",
       "      <td>0.60000</td>\n",
       "      <td>1.80000</td>\n",
       "      <td>2.80000</td>\n",
       "      <td>7.6500</td>\n",
       "      <td>65.80000</td>\n",
       "    </tr>\n",
       "    <tr>\n",
       "      <th>chlorides</th>\n",
       "      <td>3155.0</td>\n",
       "      <td>0.056976</td>\n",
       "      <td>0.036802</td>\n",
       "      <td>0.01200</td>\n",
       "      <td>0.03800</td>\n",
       "      <td>0.04700</td>\n",
       "      <td>0.0660</td>\n",
       "      <td>0.61100</td>\n",
       "    </tr>\n",
       "    <tr>\n",
       "      <th>free sulfur dioxide</th>\n",
       "      <td>3155.0</td>\n",
       "      <td>30.388590</td>\n",
       "      <td>17.236784</td>\n",
       "      <td>1.00000</td>\n",
       "      <td>17.00000</td>\n",
       "      <td>28.00000</td>\n",
       "      <td>41.0000</td>\n",
       "      <td>131.00000</td>\n",
       "    </tr>\n",
       "    <tr>\n",
       "      <th>total sulfur dioxide</th>\n",
       "      <td>3155.0</td>\n",
       "      <td>115.062282</td>\n",
       "      <td>56.706617</td>\n",
       "      <td>6.00000</td>\n",
       "      <td>75.00000</td>\n",
       "      <td>117.00000</td>\n",
       "      <td>156.0000</td>\n",
       "      <td>344.00000</td>\n",
       "    </tr>\n",
       "    <tr>\n",
       "      <th>density</th>\n",
       "      <td>3155.0</td>\n",
       "      <td>0.994633</td>\n",
       "      <td>0.003005</td>\n",
       "      <td>0.98711</td>\n",
       "      <td>0.99232</td>\n",
       "      <td>0.99481</td>\n",
       "      <td>0.9968</td>\n",
       "      <td>1.03898</td>\n",
       "    </tr>\n",
       "    <tr>\n",
       "      <th>pH</th>\n",
       "      <td>3155.0</td>\n",
       "      <td>3.223201</td>\n",
       "      <td>0.161272</td>\n",
       "      <td>2.72000</td>\n",
       "      <td>3.11000</td>\n",
       "      <td>3.21000</td>\n",
       "      <td>3.3300</td>\n",
       "      <td>4.01000</td>\n",
       "    </tr>\n",
       "    <tr>\n",
       "      <th>sulphates</th>\n",
       "      <td>3155.0</td>\n",
       "      <td>0.534051</td>\n",
       "      <td>0.149149</td>\n",
       "      <td>0.22000</td>\n",
       "      <td>0.43000</td>\n",
       "      <td>0.51000</td>\n",
       "      <td>0.6000</td>\n",
       "      <td>1.95000</td>\n",
       "    </tr>\n",
       "    <tr>\n",
       "      <th>alcohol</th>\n",
       "      <td>3155.0</td>\n",
       "      <td>10.504466</td>\n",
       "      <td>1.154654</td>\n",
       "      <td>8.50000</td>\n",
       "      <td>9.50000</td>\n",
       "      <td>10.30000</td>\n",
       "      <td>11.3000</td>\n",
       "      <td>14.00000</td>\n",
       "    </tr>\n",
       "  </tbody>\n",
       "</table>\n",
       "</div>"
      ],
      "text/plain": [
       "                       count        mean        std      min       25%  \\\n",
       "fixed acidity         3155.0    7.221616   1.325297  3.80000   6.40000   \n",
       "volatile acidity      3155.0    0.338929   0.162476  0.08000   0.23000   \n",
       "citric acid           3155.0    0.321569   0.147970  0.00000   0.25000   \n",
       "residual sugar        3155.0    5.155911   4.639632  0.60000   1.80000   \n",
       "chlorides             3155.0    0.056976   0.036802  0.01200   0.03800   \n",
       "free sulfur dioxide   3155.0   30.388590  17.236784  1.00000  17.00000   \n",
       "total sulfur dioxide  3155.0  115.062282  56.706617  6.00000  75.00000   \n",
       "density               3155.0    0.994633   0.003005  0.98711   0.99232   \n",
       "pH                    3155.0    3.223201   0.161272  2.72000   3.11000   \n",
       "sulphates             3155.0    0.534051   0.149149  0.22000   0.43000   \n",
       "alcohol               3155.0   10.504466   1.154654  8.50000   9.50000   \n",
       "\n",
       "                            50%       75%        max  \n",
       "fixed acidity           7.00000    7.7000   15.60000  \n",
       "volatile acidity        0.29000    0.4000    1.24000  \n",
       "citric acid             0.31000    0.4000    1.66000  \n",
       "residual sugar          2.80000    7.6500   65.80000  \n",
       "chlorides               0.04700    0.0660    0.61100  \n",
       "free sulfur dioxide    28.00000   41.0000  131.00000  \n",
       "total sulfur dioxide  117.00000  156.0000  344.00000  \n",
       "density                 0.99481    0.9968    1.03898  \n",
       "pH                      3.21000    3.3300    4.01000  \n",
       "sulphates               0.51000    0.6000    1.95000  \n",
       "alcohol                10.30000   11.3000   14.00000  "
      ]
     },
     "execution_count": 24,
     "metadata": {},
     "output_type": "execute_result"
    }
   ],
   "source": [
    "train_stats"
   ]
  },
  {
   "cell_type": "markdown",
   "metadata": {
    "colab_type": "text",
    "id": "bGPvt9jir_HC"
   },
   "source": [
    "### Get the labels (TODO)\n",
    "\n",
    "The features and labels are currently in the same dataframe.\n",
    "- You will want to store the label columns `is_red` and `quality` separately from the feature columns.  \n",
    "- The following function, `format_output`, gets these two columns from the dataframe (it's given to you).\n",
    "- `format_output` also formats the data into numpy arrays. \n",
    "- Please use the `format_output` and apply it to the `train`, `val` and `test` sets to get dataframes for the labels."
   ]
  },
  {
   "cell_type": "code",
   "execution_count": 25,
   "metadata": {
    "colab": {},
    "colab_type": "code",
    "id": "Z_fs14XQqZVP"
   },
   "outputs": [],
   "source": [
    "def format_output(data):\n",
    "    is_red = data.pop('is_red')\n",
    "    is_red = np.array(is_red)\n",
    "    quality = data.pop('quality')\n",
    "    quality = np.array(quality)\n",
    "    return (quality, is_red)"
   ]
  },
  {
   "cell_type": "code",
   "execution_count": 26,
   "metadata": {
    "colab": {},
    "colab_type": "code",
    "deletable": false,
    "id": "8L3ZZe1fQicm",
    "nbgrader": {
     "cell_type": "code",
     "checksum": "7a86809e54895a816434c48dc903f55d",
     "grade": false,
     "grade_id": "cell-5c30fa2c2a354b0f",
     "locked": false,
     "schema_version": 3,
     "solution": true,
     "task": false
    }
   },
   "outputs": [],
   "source": [
    "## Please uncomment all lines in this cell and replace those marked with `# YOUR CODE HERE`.\n",
    "## You can select all lines in this code cell with Ctrl+A (Windows/Linux) or Cmd+A (Mac), then press Ctrl+/ (Windows/Linux) or Cmd+/ (Mac) to uncomment.\n",
    "\n",
    "\n",
    "\n",
    "# format the output of the train set\n",
    "train_Y = format_output(train)\n",
    "\n",
    "# format the output of the val set\n",
    "val_Y = format_output(val)\n",
    "    \n",
    "# format the output of the test set\n",
    "test_Y = format_output(test)"
   ]
  },
  {
   "cell_type": "code",
   "execution_count": 27,
   "metadata": {
    "deletable": false,
    "editable": false,
    "nbgrader": {
     "cell_type": "code",
     "checksum": "359cabbafaed14ec9bbc1e57a7b6f32c",
     "grade": true,
     "grade_id": "cell-4977d8befb80f56b",
     "locked": true,
     "points": 1,
     "schema_version": 3,
     "solution": false,
     "task": false
    }
   },
   "outputs": [
    {
     "name": "stdout",
     "output_type": "stream",
     "text": [
      "\u001b[92m All public tests passed\n"
     ]
    }
   ],
   "source": [
    "utils.test_format_output(df, train_Y, val_Y, test_Y)"
   ]
  },
  {
   "cell_type": "markdown",
   "metadata": {},
   "source": [
    "Notice that after you get the labels, the `train`, `val` and `test` dataframes no longer contain the label columns, and contain just the feature columns.\n",
    "- This is because you used `.pop` in the `format_output` function."
   ]
  },
  {
   "cell_type": "code",
   "execution_count": 28,
   "metadata": {},
   "outputs": [
    {
     "data": {
      "text/html": [
       "<div>\n",
       "<style scoped>\n",
       "    .dataframe tbody tr th:only-of-type {\n",
       "        vertical-align: middle;\n",
       "    }\n",
       "\n",
       "    .dataframe tbody tr th {\n",
       "        vertical-align: top;\n",
       "    }\n",
       "\n",
       "    .dataframe thead th {\n",
       "        text-align: right;\n",
       "    }\n",
       "</style>\n",
       "<table border=\"1\" class=\"dataframe\">\n",
       "  <thead>\n",
       "    <tr style=\"text-align: right;\">\n",
       "      <th></th>\n",
       "      <th>fixed acidity</th>\n",
       "      <th>volatile acidity</th>\n",
       "      <th>citric acid</th>\n",
       "      <th>residual sugar</th>\n",
       "      <th>chlorides</th>\n",
       "      <th>free sulfur dioxide</th>\n",
       "      <th>total sulfur dioxide</th>\n",
       "      <th>density</th>\n",
       "      <th>pH</th>\n",
       "      <th>sulphates</th>\n",
       "      <th>alcohol</th>\n",
       "    </tr>\n",
       "  </thead>\n",
       "  <tbody>\n",
       "    <tr>\n",
       "      <th>225</th>\n",
       "      <td>7.5</td>\n",
       "      <td>0.65</td>\n",
       "      <td>0.18</td>\n",
       "      <td>7.0</td>\n",
       "      <td>0.088</td>\n",
       "      <td>27.0</td>\n",
       "      <td>94.0</td>\n",
       "      <td>0.99915</td>\n",
       "      <td>3.38</td>\n",
       "      <td>0.77</td>\n",
       "      <td>9.4</td>\n",
       "    </tr>\n",
       "    <tr>\n",
       "      <th>3557</th>\n",
       "      <td>6.3</td>\n",
       "      <td>0.27</td>\n",
       "      <td>0.29</td>\n",
       "      <td>12.2</td>\n",
       "      <td>0.044</td>\n",
       "      <td>59.0</td>\n",
       "      <td>196.0</td>\n",
       "      <td>0.99782</td>\n",
       "      <td>3.14</td>\n",
       "      <td>0.40</td>\n",
       "      <td>8.8</td>\n",
       "    </tr>\n",
       "    <tr>\n",
       "      <th>3825</th>\n",
       "      <td>8.8</td>\n",
       "      <td>0.27</td>\n",
       "      <td>0.25</td>\n",
       "      <td>5.0</td>\n",
       "      <td>0.024</td>\n",
       "      <td>52.0</td>\n",
       "      <td>99.0</td>\n",
       "      <td>0.99250</td>\n",
       "      <td>2.87</td>\n",
       "      <td>0.49</td>\n",
       "      <td>11.4</td>\n",
       "    </tr>\n",
       "    <tr>\n",
       "      <th>1740</th>\n",
       "      <td>6.4</td>\n",
       "      <td>0.45</td>\n",
       "      <td>0.07</td>\n",
       "      <td>1.1</td>\n",
       "      <td>0.030</td>\n",
       "      <td>10.0</td>\n",
       "      <td>131.0</td>\n",
       "      <td>0.99050</td>\n",
       "      <td>2.97</td>\n",
       "      <td>0.28</td>\n",
       "      <td>10.8</td>\n",
       "    </tr>\n",
       "    <tr>\n",
       "      <th>1221</th>\n",
       "      <td>7.2</td>\n",
       "      <td>0.53</td>\n",
       "      <td>0.13</td>\n",
       "      <td>2.0</td>\n",
       "      <td>0.058</td>\n",
       "      <td>18.0</td>\n",
       "      <td>22.0</td>\n",
       "      <td>0.99573</td>\n",
       "      <td>3.21</td>\n",
       "      <td>0.68</td>\n",
       "      <td>9.9</td>\n",
       "    </tr>\n",
       "  </tbody>\n",
       "</table>\n",
       "</div>"
      ],
      "text/plain": [
       "      fixed acidity  volatile acidity  citric acid  residual sugar  chlorides  \\\n",
       "225             7.5              0.65         0.18             7.0      0.088   \n",
       "3557            6.3              0.27         0.29            12.2      0.044   \n",
       "3825            8.8              0.27         0.25             5.0      0.024   \n",
       "1740            6.4              0.45         0.07             1.1      0.030   \n",
       "1221            7.2              0.53         0.13             2.0      0.058   \n",
       "\n",
       "      free sulfur dioxide  total sulfur dioxide  density    pH  sulphates  \\\n",
       "225                  27.0                  94.0  0.99915  3.38       0.77   \n",
       "3557                 59.0                 196.0  0.99782  3.14       0.40   \n",
       "3825                 52.0                  99.0  0.99250  2.87       0.49   \n",
       "1740                 10.0                 131.0  0.99050  2.97       0.28   \n",
       "1221                 18.0                  22.0  0.99573  3.21       0.68   \n",
       "\n",
       "      alcohol  \n",
       "225       9.4  \n",
       "3557      8.8  \n",
       "3825     11.4  \n",
       "1740     10.8  \n",
       "1221      9.9  "
      ]
     },
     "execution_count": 28,
     "metadata": {},
     "output_type": "execute_result"
    }
   ],
   "source": [
    "train.head()"
   ]
  },
  {
   "cell_type": "markdown",
   "metadata": {
    "colab_type": "text",
    "id": "hEdbrruAsN1D"
   },
   "source": [
    "### Normalize the data (TODO)\n",
    "\n",
    "Next, you can normalize the data, x, using the formula:\n",
    "$$x_{norm} = \\frac{x - \\mu}{\\sigma}$$\n",
    "- The `norm` function is defined for you.\n",
    "- Please apply the `norm` function to normalize the dataframes that contains the feature columns of `train`, `val` and `test` sets."
   ]
  },
  {
   "cell_type": "code",
   "execution_count": 30,
   "metadata": {
    "colab": {},
    "colab_type": "code",
    "id": "WWiZPAHCLjUs"
   },
   "outputs": [],
   "source": [
    "def norm(x):\n",
    "    return (x - train_stats['mean']) / train_stats['std']"
   ]
  },
  {
   "cell_type": "code",
   "execution_count": 31,
   "metadata": {
    "colab": {},
    "colab_type": "code",
    "deletable": false,
    "id": "JEaOi2I2Lk69",
    "nbgrader": {
     "cell_type": "code",
     "checksum": "6bc0cdcb563d192f271067aa3373ff32",
     "grade": false,
     "grade_id": "cell-d8416d975c371095",
     "locked": false,
     "schema_version": 3,
     "solution": true,
     "task": false
    }
   },
   "outputs": [],
   "source": [
    "## Please uncomment all lines in this cell and replace those marked with `# YOUR CODE HERE`.\n",
    "## You can select all lines in this code cell with Ctrl+A (Windows/Linux) or Cmd+A (Mac), then press Ctrl+/ (Windows/Linux) or Cmd+/ (Mac) to uncomment.\n",
    "\n",
    "\n",
    "\n",
    "# normalize the train set\n",
    "norm_train_X = norm(train)\n",
    "    \n",
    "# normalize the val set\n",
    "norm_val_X = norm(val)\n",
    "    \n",
    "# normalize the test set\n",
    "norm_test_X = norm(test)"
   ]
  },
  {
   "cell_type": "code",
   "execution_count": 32,
   "metadata": {
    "deletable": false,
    "editable": false,
    "nbgrader": {
     "cell_type": "code",
     "checksum": "4f567db45bf40191601780379cc100b8",
     "grade": true,
     "grade_id": "cell-97fad979d157529b",
     "locked": true,
     "points": 1,
     "schema_version": 3,
     "solution": false,
     "task": false
    }
   },
   "outputs": [
    {
     "name": "stdout",
     "output_type": "stream",
     "text": [
      "\u001b[92m All public tests passed\n"
     ]
    }
   ],
   "source": [
    "utils.test_norm(norm_train_X, norm_val_X, norm_test_X, train, val, test)\n"
   ]
  },
  {
   "cell_type": "markdown",
   "metadata": {
    "colab_type": "text",
    "id": "hzykDwQhsaPO"
   },
   "source": [
    "## Define the Model (TODO)\n",
    "\n",
    "Define the model using the functional API. The base model will be 2 `Dense` layers of 128 neurons each, and have the `'relu'` activation.\n",
    "- Check out the documentation for [tf.keras.layers.Dense](https://www.tensorflow.org/api_docs/python/tf/keras/layers/Dense)"
   ]
  },
  {
   "cell_type": "code",
   "execution_count": 33,
   "metadata": {
    "colab": {},
    "colab_type": "code",
    "deletable": false,
    "id": "Rhcns3oTFkM6",
    "nbgrader": {
     "cell_type": "code",
     "checksum": "74b031247e569526552bf13a034a1c07",
     "grade": false,
     "grade_id": "cell-73fceedad1fe351c",
     "locked": false,
     "schema_version": 3,
     "solution": true,
     "task": false
    }
   },
   "outputs": [],
   "source": [
    "## Please uncomment all lines in this cell and replace those marked with `# YOUR CODE HERE`.\n",
    "## You can select all lines in this code cell with Ctrl+A (Windows/Linux) or Cmd+A (Mac), then press Ctrl+/ (Windows/Linux) or Cmd+/ (Mac) to uncomment.\n",
    "\n",
    "\n",
    "\n",
    "def base_model(inputs):\n",
    "    \n",
    "    # connect a Dense layer with 128 neurons and a relu activation\n",
    "    x = Dense(128, activation='relu')(inputs)\n",
    "    \n",
    "    # connect another Dense layer with 128 neurons and a relu activation\n",
    "    x = Dense(128, activation='relu')(x)\n",
    "    return x\n",
    "  "
   ]
  },
  {
   "cell_type": "code",
   "execution_count": 34,
   "metadata": {
    "deletable": false,
    "editable": false,
    "nbgrader": {
     "cell_type": "code",
     "checksum": "9255924b3def80f679616e4c851a43e1",
     "grade": true,
     "grade_id": "cell-54f742a133353d75",
     "locked": true,
     "points": 1,
     "schema_version": 3,
     "solution": false,
     "task": false
    }
   },
   "outputs": [
    {
     "name": "stdout",
     "output_type": "stream",
     "text": [
      "\u001b[92m All public tests passed\n"
     ]
    }
   ],
   "source": [
    "utils.test_base_model(base_model)"
   ]
  },
  {
   "cell_type": "markdown",
   "metadata": {
    "colab_type": "text",
    "id": "xem_fcVws6Kz"
   },
   "source": [
    "# Define output layers of the model (TODO)\n",
    "\n",
    "You will add output layers to the base model. \n",
    "- The model will need two outputs.\n",
    "\n",
    "One output layer will predict wine quality, which is a numeric value.\n",
    "- Define a `Dense` layer with 1 neuron.\n",
    "- Since this is a regression output, the activation can be left as its default value `None`.\n",
    "\n",
    "The other output layer will predict the wine type, which is either red `1` or not red `0` (white).\n",
    "- Define a `Dense` layer with 1 neuron.\n",
    "- Since there are two possible categories, you can use a sigmoid activation for binary classification.\n",
    "\n",
    "Define the `Model`\n",
    "- Define the `Model` object, and set the following parameters:\n",
    "  - `inputs`: pass in the inputs to the model as a list.\n",
    "  - `outputs`: pass in a list of the outputs that you just defined: wine quality, then wine type.\n",
    "  - **Note**: please list the wine quality before wine type in the outputs, as this will affect the calculated loss if you choose the other order."
   ]
  },
  {
   "cell_type": "code",
   "execution_count": 35,
   "metadata": {
    "colab": {},
    "colab_type": "code",
    "deletable": false,
    "id": "n5UGF8PMVLPt",
    "nbgrader": {
     "cell_type": "code",
     "checksum": "76d35b90d20cdcbb22986cd8211057de",
     "grade": false,
     "grade_id": "cell-19e285f482f021fb",
     "locked": false,
     "schema_version": 3,
     "solution": true,
     "task": false
    }
   },
   "outputs": [],
   "source": [
    "## Please uncomment all lines in this cell and replace those marked with `# YOUR CODE HERE`.\n",
    "## You can select all lines in this code cell with Ctrl+A (Windows/Linux) or Cmd+A (Mac), then press Ctrl+/ (Windows/Linux) or Cmd+/ (Mac) to uncomment.\n",
    "\n",
    "\n",
    "\n",
    "def final_model(inputs):\n",
    "    \n",
    "    # get the base model\n",
    "    x = base_model(inputs)\n",
    "\n",
    "    # connect the output Dense layer for regression\n",
    "    wine_quality = Dense(units='1', name='wine_quality')(x)\n",
    "\n",
    "    # connect the output Dense layer for classification. this will use a sigmoid activation.\n",
    "    wine_type = Dense(units='1', activation='sigmoid', name='wine_type')(x)\n",
    "\n",
    "    # define the model using the input and output layers\n",
    "    model = Model(inputs=inputs, outputs=[wine_quality, wine_type])\n",
    "\n",
    "    return model"
   ]
  },
  {
   "cell_type": "code",
   "execution_count": 36,
   "metadata": {
    "deletable": false,
    "editable": false,
    "nbgrader": {
     "cell_type": "code",
     "checksum": "89cbf89d8ab5e2e59ecf7f63f517520a",
     "grade": true,
     "grade_id": "cell-40d050f855c817d1",
     "locked": true,
     "points": 1,
     "schema_version": 3,
     "solution": false,
     "task": false
    }
   },
   "outputs": [
    {
     "name": "stdout",
     "output_type": "stream",
     "text": [
      "\u001b[92m All public tests passed\n"
     ]
    }
   ],
   "source": [
    "utils.test_final_model(final_model)"
   ]
  },
  {
   "cell_type": "markdown",
   "metadata": {
    "colab_type": "text",
    "id": "5R0BMTsltZyu"
   },
   "source": [
    "## Compiling the Model\n",
    "\n",
    "Next, compile the model. When setting the loss parameter of `model.compile`, you're setting the loss for each of the two outputs (wine quality and wine type).\n",
    "\n",
    "To set more than one loss, use a dictionary of key-value pairs.\n",
    "- You can look at the docs for the losses [here](https://www.tensorflow.org/api_docs/python/tf/keras/losses#functions).\n",
    "    - **Note**: For the desired spelling, please look at the \"Functions\" section of the documentation and not the \"classes\" section on that same page.\n",
    "- wine_type: Since you will be performing binary classification on wine type, you should use the binary crossentropy loss function for it.  Please pass this in as a string.  \n",
    "  - **Hint**, this should be all lowercase.  In the documentation, you'll see this under the \"Functions\" section, not the \"Classes\" section.\n",
    "- wine_quality: since this is a regression output, use the mean squared error.  Please pass it in as a string, all lowercase.\n",
    "  - **Hint**: You may notice that there are two aliases for mean squared error.  Please use the shorter name.\n",
    "\n",
    "\n",
    "You will also set the metric for each of the two outputs.  Again, to set metrics for two or more outputs, use a dictionary with key value pairs.\n",
    "- The metrics documentation is linked [here](https://www.tensorflow.org/api_docs/python/tf/keras/metrics).\n",
    "- For the wine type, please set it to accuracy as a string, all lowercase.\n",
    "- For wine quality, please use the root mean squared error.  Instead of a string, you'll set it to an instance of the class [RootMeanSquaredError](https://www.tensorflow.org/api_docs/python/tf/keras/metrics/RootMeanSquaredError), which belongs to the tf.keras.metrics module.\n",
    "\n",
    "**Note**: If you see the error message \n",
    ">Exception: wine quality loss function is incorrect.\n",
    "\n",
    "- Please also check your other losses and metrics, as the error may be caused by the other three key-value pairs and not the wine quality loss."
   ]
  },
  {
   "cell_type": "code",
   "execution_count": 40,
   "metadata": {
    "colab": {},
    "colab_type": "code",
    "deletable": false,
    "id": "LK11duUbUjmh",
    "nbgrader": {
     "cell_type": "code",
     "checksum": "22f45067ca69eb2ccadb43874dbcc27b",
     "grade": false,
     "grade_id": "cell-81afdc4dcca51d5e",
     "locked": false,
     "schema_version": 3,
     "solution": true,
     "task": false
    }
   },
   "outputs": [],
   "source": [
    "## Please uncomment all lines in this cell and replace those marked with `# YOUR CODE HERE`.\n",
    "## You can select all lines in this code cell with Ctrl+A (Windows/Linux) or Cmd+A (Mac), then press Ctrl+/ (Windows/Linux) or Cmd+/ (Mac) to uncomment.\n",
    "\n",
    "\n",
    "\n",
    "inputs = tf.keras.layers.Input(shape=(11,))\n",
    "rms = tf.keras.optimizers.RMSprop(lr=0.0001)\n",
    "model = final_model(inputs)\n",
    "\n",
    "model.compile(optimizer=rms, \n",
    "              loss = {'wine_type' : 'binary_crossentropy',\n",
    "                      'wine_quality' : 'mse'\n",
    "                     },\n",
    "              metrics = {'wine_type' : ['accuracy'],\n",
    "                         'wine_quality': tf.keras.metrics.RootMeanSquaredError()\n",
    "                       }\n",
    "             )\n"
   ]
  },
  {
   "cell_type": "code",
   "execution_count": 41,
   "metadata": {
    "deletable": false,
    "editable": false,
    "nbgrader": {
     "cell_type": "code",
     "checksum": "88e02238ea5e456ff65e835cc8158054",
     "grade": true,
     "grade_id": "cell-2eeeba02391c4632",
     "locked": true,
     "points": 1,
     "schema_version": 3,
     "solution": false,
     "task": false
    }
   },
   "outputs": [
    {
     "name": "stdout",
     "output_type": "stream",
     "text": [
      "\u001b[92m All public tests passed\n"
     ]
    }
   ],
   "source": [
    "utils.test_model_compile(model)"
   ]
  },
  {
   "cell_type": "markdown",
   "metadata": {
    "colab_type": "text",
    "id": "90MpAMpWuKm-"
   },
   "source": [
    "## Training the Model\n",
    "\n",
    "Fit the model to the training inputs and outputs. \n",
    "- Check the documentation for [model.fit](https://www.tensorflow.org/api_docs/python/tf/keras/Model#fit).\n",
    "- Remember to use the normalized training set as inputs. \n",
    "- For the validation data, please use the normalized validation set."
   ]
  },
  {
   "cell_type": "code",
   "execution_count": 42,
   "metadata": {
    "colab": {},
    "colab_type": "code",
    "deletable": false,
    "id": "_eiZkle4XwiY",
    "nbgrader": {
     "cell_type": "code",
     "checksum": "2ca7664be03bfd6fd3651ae44d17b793",
     "grade": false,
     "grade_id": "cell-0bb56262896f6680",
     "locked": false,
     "schema_version": 3,
     "solution": true,
     "task": false
    }
   },
   "outputs": [
    {
     "name": "stdout",
     "output_type": "stream",
     "text": [
      "Train on 3155 samples, validate on 789 samples\n",
      "Epoch 1/180\n",
      "3155/3155 [==============================] - 1s 324us/sample - loss: 24.5077 - wine_quality_loss: 23.8043 - wine_type_loss: 0.6708 - wine_quality_root_mean_squared_error: 4.8823 - wine_type_accuracy: 0.5674 - val_loss: 16.4523 - val_wine_quality_loss: 15.8121 - val_wine_type_loss: 0.6493 - val_wine_quality_root_mean_squared_error: 3.9753 - val_wine_type_accuracy: 0.6324\n",
      "Epoch 2/180\n",
      "3155/3155 [==============================] - 0s 93us/sample - loss: 10.7260 - wine_quality_loss: 10.0958 - wine_type_loss: 0.6086 - wine_quality_root_mean_squared_error: 3.1808 - wine_type_accuracy: 0.7880 - val_loss: 5.9801 - val_wine_quality_loss: 5.4764 - val_wine_type_loss: 0.5639 - val_wine_quality_root_mean_squared_error: 2.3272 - val_wine_type_accuracy: 0.9100\n",
      "Epoch 3/180\n",
      "3155/3155 [==============================] - 0s 74us/sample - loss: 4.3158 - wine_quality_loss: 3.8084 - wine_type_loss: 0.5057 - wine_quality_root_mean_squared_error: 1.9519 - wine_type_accuracy: 0.9227 - val_loss: 3.0679 - val_wine_quality_loss: 2.6827 - val_wine_type_loss: 0.4497 - val_wine_quality_root_mean_squared_error: 1.6180 - val_wine_type_accuracy: 0.9265\n",
      "Epoch 4/180\n",
      "3155/3155 [==============================] - 0s 91us/sample - loss: 2.9001 - wine_quality_loss: 2.5049 - wine_type_loss: 0.3916 - wine_quality_root_mean_squared_error: 1.5837 - wine_type_accuracy: 0.9258 - val_loss: 2.4250 - val_wine_quality_loss: 2.1161 - val_wine_type_loss: 0.3478 - val_wine_quality_root_mean_squared_error: 1.4411 - val_wine_type_accuracy: 0.9354\n",
      "Epoch 5/180\n",
      "3155/3155 [==============================] - 0s 91us/sample - loss: 2.3719 - wine_quality_loss: 2.0664 - wine_type_loss: 0.3026 - wine_quality_root_mean_squared_error: 1.4385 - wine_type_accuracy: 0.9480 - val_loss: 2.0688 - val_wine_quality_loss: 1.8227 - val_wine_type_loss: 0.2722 - val_wine_quality_root_mean_squared_error: 1.3403 - val_wine_type_accuracy: 0.9645\n",
      "Epoch 6/180\n",
      "3155/3155 [==============================] - 0s 74us/sample - loss: 2.0242 - wine_quality_loss: 1.7851 - wine_type_loss: 0.2357 - wine_quality_root_mean_squared_error: 1.3372 - wine_type_accuracy: 0.9737 - val_loss: 1.8018 - val_wine_quality_loss: 1.6040 - val_wine_type_loss: 0.2134 - val_wine_quality_root_mean_squared_error: 1.2602 - val_wine_type_accuracy: 0.9772\n",
      "Epoch 7/180\n",
      "3155/3155 [==============================] - 0s 87us/sample - loss: 1.7849 - wine_quality_loss: 1.5966 - wine_type_loss: 0.1874 - wine_quality_root_mean_squared_error: 1.2639 - wine_type_accuracy: 0.9838 - val_loss: 1.6117 - val_wine_quality_loss: 1.4497 - val_wine_type_loss: 0.1710 - val_wine_quality_root_mean_squared_error: 1.2002 - val_wine_type_accuracy: 0.9861\n",
      "Epoch 8/180\n",
      "3155/3155 [==============================] - 0s 71us/sample - loss: 1.6037 - wine_quality_loss: 1.4505 - wine_type_loss: 0.1498 - wine_quality_root_mean_squared_error: 1.2058 - wine_type_accuracy: 0.9861 - val_loss: 1.4549 - val_wine_quality_loss: 1.3237 - val_wine_type_loss: 0.1372 - val_wine_quality_root_mean_squared_error: 1.1478 - val_wine_type_accuracy: 0.9886\n",
      "Epoch 9/180\n",
      "3155/3155 [==============================] - 0s 87us/sample - loss: 1.4588 - wine_quality_loss: 1.3329 - wine_type_loss: 0.1229 - wine_quality_root_mean_squared_error: 1.1558 - wine_type_accuracy: 0.9902 - val_loss: 1.3382 - val_wine_quality_loss: 1.2284 - val_wine_type_loss: 0.1135 - val_wine_quality_root_mean_squared_error: 1.1066 - val_wine_type_accuracy: 0.9886\n",
      "Epoch 10/180\n",
      "3155/3155 [==============================] - 0s 71us/sample - loss: 1.3428 - wine_quality_loss: 1.2546 - wine_type_loss: 0.1024 - wine_quality_root_mean_squared_error: 1.1136 - wine_type_accuracy: 0.9905 - val_loss: 1.2381 - val_wine_quality_loss: 1.1446 - val_wine_type_loss: 0.0956 - val_wine_quality_root_mean_squared_error: 1.0688 - val_wine_type_accuracy: 0.9911\n",
      "Epoch 11/180\n",
      "3155/3155 [==============================] - 0s 87us/sample - loss: 1.2387 - wine_quality_loss: 1.1509 - wine_type_loss: 0.0877 - wine_quality_root_mean_squared_error: 1.0727 - wine_type_accuracy: 0.9918 - val_loss: 1.1401 - val_wine_quality_loss: 1.0590 - val_wine_type_loss: 0.0821 - val_wine_quality_root_mean_squared_error: 1.0286 - val_wine_type_accuracy: 0.9924\n",
      "Epoch 12/180\n",
      "3155/3155 [==============================] - 0s 70us/sample - loss: 1.1448 - wine_quality_loss: 1.0683 - wine_type_loss: 0.0772 - wine_quality_root_mean_squared_error: 1.0336 - wine_type_accuracy: 0.9924 - val_loss: 1.0813 - val_wine_quality_loss: 1.0089 - val_wine_type_loss: 0.0717 - val_wine_quality_root_mean_squared_error: 1.0048 - val_wine_type_accuracy: 0.9924\n",
      "Epoch 13/180\n",
      "3155/3155 [==============================] - 0s 86us/sample - loss: 1.0650 - wine_quality_loss: 0.9960 - wine_type_loss: 0.0679 - wine_quality_root_mean_squared_error: 0.9987 - wine_type_accuracy: 0.9921 - val_loss: 0.9896 - val_wine_quality_loss: 0.9251 - val_wine_type_loss: 0.0640 - val_wine_quality_root_mean_squared_error: 0.9620 - val_wine_type_accuracy: 0.9924\n",
      "Epoch 14/180\n",
      "3155/3155 [==============================] - 0s 71us/sample - loss: 0.9926 - wine_quality_loss: 0.9307 - wine_type_loss: 0.0610 - wine_quality_root_mean_squared_error: 0.9652 - wine_type_accuracy: 0.9930 - val_loss: 0.9203 - val_wine_quality_loss: 0.8618 - val_wine_type_loss: 0.0577 - val_wine_quality_root_mean_squared_error: 0.9287 - val_wine_type_accuracy: 0.9924\n",
      "Epoch 15/180\n",
      "3155/3155 [==============================] - 0s 86us/sample - loss: 0.9291 - wine_quality_loss: 0.8713 - wine_type_loss: 0.0557 - wine_quality_root_mean_squared_error: 0.9345 - wine_type_accuracy: 0.9930 - val_loss: 0.8719 - val_wine_quality_loss: 0.8173 - val_wine_type_loss: 0.0530 - val_wine_quality_root_mean_squared_error: 0.9048 - val_wine_type_accuracy: 0.9924\n",
      "Epoch 16/180\n",
      "3155/3155 [==============================] - 0s 72us/sample - loss: 0.8760 - wine_quality_loss: 0.8229 - wine_type_loss: 0.0517 - wine_quality_root_mean_squared_error: 0.9078 - wine_type_accuracy: 0.9930 - val_loss: 0.8221 - val_wine_quality_loss: 0.7712 - val_wine_type_loss: 0.0494 - val_wine_quality_root_mean_squared_error: 0.8790 - val_wine_type_accuracy: 0.9924\n",
      "Epoch 17/180\n",
      "3155/3155 [==============================] - 0s 87us/sample - loss: 0.8268 - wine_quality_loss: 0.7785 - wine_type_loss: 0.0485 - wine_quality_root_mean_squared_error: 0.8822 - wine_type_accuracy: 0.9930 - val_loss: 0.7851 - val_wine_quality_loss: 0.7369 - val_wine_type_loss: 0.0465 - val_wine_quality_root_mean_squared_error: 0.8593 - val_wine_type_accuracy: 0.9924\n",
      "Epoch 18/180\n",
      "3155/3155 [==============================] - 0s 72us/sample - loss: 0.7814 - wine_quality_loss: 0.7350 - wine_type_loss: 0.0459 - wine_quality_root_mean_squared_error: 0.8576 - wine_type_accuracy: 0.9930 - val_loss: 0.7346 - val_wine_quality_loss: 0.6889 - val_wine_type_loss: 0.0442 - val_wine_quality_root_mean_squared_error: 0.8308 - val_wine_type_accuracy: 0.9937\n",
      "Epoch 19/180\n",
      "3155/3155 [==============================] - 0s 87us/sample - loss: 0.7385 - wine_quality_loss: 0.6937 - wine_type_loss: 0.0438 - wine_quality_root_mean_squared_error: 0.8335 - wine_type_accuracy: 0.9933 - val_loss: 0.7030 - val_wine_quality_loss: 0.6593 - val_wine_type_loss: 0.0422 - val_wine_quality_root_mean_squared_error: 0.8127 - val_wine_type_accuracy: 0.9924\n",
      "Epoch 20/180\n",
      "3155/3155 [==============================] - 0s 70us/sample - loss: 0.7045 - wine_quality_loss: 0.6620 - wine_type_loss: 0.0420 - wine_quality_root_mean_squared_error: 0.8139 - wine_type_accuracy: 0.9933 - val_loss: 0.6647 - val_wine_quality_loss: 0.6222 - val_wine_type_loss: 0.0407 - val_wine_quality_root_mean_squared_error: 0.7898 - val_wine_type_accuracy: 0.9937\n",
      "Epoch 21/180\n",
      "3155/3155 [==============================] - 0s 86us/sample - loss: 0.6705 - wine_quality_loss: 0.6290 - wine_type_loss: 0.0405 - wine_quality_root_mean_squared_error: 0.7937 - wine_type_accuracy: 0.9930 - val_loss: 0.6269 - val_wine_quality_loss: 0.5860 - val_wine_type_loss: 0.0394 - val_wine_quality_root_mean_squared_error: 0.7663 - val_wine_type_accuracy: 0.9937\n",
      "Epoch 22/180\n"
     ]
    },
    {
     "name": "stdout",
     "output_type": "stream",
     "text": [
      "3155/3155 [==============================] - 0s 70us/sample - loss: 0.6388 - wine_quality_loss: 0.5995 - wine_type_loss: 0.0392 - wine_quality_root_mean_squared_error: 0.7743 - wine_type_accuracy: 0.9933 - val_loss: 0.6012 - val_wine_quality_loss: 0.5612 - val_wine_type_loss: 0.0384 - val_wine_quality_root_mean_squared_error: 0.7500 - val_wine_type_accuracy: 0.9937\n",
      "Epoch 23/180\n",
      "3155/3155 [==============================] - 0s 86us/sample - loss: 0.6096 - wine_quality_loss: 0.5702 - wine_type_loss: 0.0382 - wine_quality_root_mean_squared_error: 0.7559 - wine_type_accuracy: 0.9933 - val_loss: 0.5754 - val_wine_quality_loss: 0.5364 - val_wine_type_loss: 0.0374 - val_wine_quality_root_mean_squared_error: 0.7333 - val_wine_type_accuracy: 0.9937\n",
      "Epoch 24/180\n",
      "3155/3155 [==============================] - 0s 72us/sample - loss: 0.5827 - wine_quality_loss: 0.5451 - wine_type_loss: 0.0374 - wine_quality_root_mean_squared_error: 0.7386 - wine_type_accuracy: 0.9930 - val_loss: 0.5497 - val_wine_quality_loss: 0.5115 - val_wine_type_loss: 0.0365 - val_wine_quality_root_mean_squared_error: 0.7161 - val_wine_type_accuracy: 0.9937\n",
      "Epoch 25/180\n",
      "3155/3155 [==============================] - 0s 85us/sample - loss: 0.5595 - wine_quality_loss: 0.5219 - wine_type_loss: 0.0363 - wine_quality_root_mean_squared_error: 0.7233 - wine_type_accuracy: 0.9937 - val_loss: 0.5300 - val_wine_quality_loss: 0.4926 - val_wine_type_loss: 0.0359 - val_wine_quality_root_mean_squared_error: 0.7027 - val_wine_type_accuracy: 0.9937\n",
      "Epoch 26/180\n",
      "3155/3155 [==============================] - 0s 72us/sample - loss: 0.5391 - wine_quality_loss: 0.5032 - wine_type_loss: 0.0356 - wine_quality_root_mean_squared_error: 0.7095 - wine_type_accuracy: 0.9937 - val_loss: 0.5121 - val_wine_quality_loss: 0.4753 - val_wine_type_loss: 0.0353 - val_wine_quality_root_mean_squared_error: 0.6903 - val_wine_type_accuracy: 0.9937\n",
      "Epoch 27/180\n",
      "3155/3155 [==============================] - 0s 70us/sample - loss: 0.5183 - wine_quality_loss: 0.4844 - wine_type_loss: 0.0349 - wine_quality_root_mean_squared_error: 0.6952 - wine_type_accuracy: 0.9937 - val_loss: 0.4930 - val_wine_quality_loss: 0.4564 - val_wine_type_loss: 0.0349 - val_wine_quality_root_mean_squared_error: 0.6766 - val_wine_type_accuracy: 0.9937\n",
      "Epoch 28/180\n",
      "3155/3155 [==============================] - 0s 86us/sample - loss: 0.5016 - wine_quality_loss: 0.4665 - wine_type_loss: 0.0344 - wine_quality_root_mean_squared_error: 0.6835 - wine_type_accuracy: 0.9940 - val_loss: 0.4809 - val_wine_quality_loss: 0.4452 - val_wine_type_loss: 0.0344 - val_wine_quality_root_mean_squared_error: 0.6680 - val_wine_type_accuracy: 0.9937\n",
      "Epoch 29/180\n",
      "3155/3155 [==============================] - 0s 69us/sample - loss: 0.4840 - wine_quality_loss: 0.4500 - wine_type_loss: 0.0338 - wine_quality_root_mean_squared_error: 0.6709 - wine_type_accuracy: 0.9940 - val_loss: 0.4627 - val_wine_quality_loss: 0.4276 - val_wine_type_loss: 0.0339 - val_wine_quality_root_mean_squared_error: 0.6546 - val_wine_type_accuracy: 0.9937\n",
      "Epoch 30/180\n",
      "3155/3155 [==============================] - 0s 85us/sample - loss: 0.4705 - wine_quality_loss: 0.4369 - wine_type_loss: 0.0334 - wine_quality_root_mean_squared_error: 0.6611 - wine_type_accuracy: 0.9940 - val_loss: 0.4569 - val_wine_quality_loss: 0.4221 - val_wine_type_loss: 0.0335 - val_wine_quality_root_mean_squared_error: 0.6504 - val_wine_type_accuracy: 0.9937\n",
      "Epoch 31/180\n",
      "3155/3155 [==============================] - 0s 72us/sample - loss: 0.4566 - wine_quality_loss: 0.4251 - wine_type_loss: 0.0328 - wine_quality_root_mean_squared_error: 0.6509 - wine_type_accuracy: 0.9940 - val_loss: 0.4396 - val_wine_quality_loss: 0.4053 - val_wine_type_loss: 0.0331 - val_wine_quality_root_mean_squared_error: 0.6373 - val_wine_type_accuracy: 0.9937\n",
      "Epoch 32/180\n",
      "3155/3155 [==============================] - 0s 85us/sample - loss: 0.4436 - wine_quality_loss: 0.4111 - wine_type_loss: 0.0340 - wine_quality_root_mean_squared_error: 0.6411 - wine_type_accuracy: 0.9943 - val_loss: 0.4316 - val_wine_quality_loss: 0.3975 - val_wine_type_loss: 0.0329 - val_wine_quality_root_mean_squared_error: 0.6312 - val_wine_type_accuracy: 0.9937\n",
      "Epoch 33/180\n",
      "3155/3155 [==============================] - 0s 72us/sample - loss: 0.4328 - wine_quality_loss: 0.4002 - wine_type_loss: 0.0324 - wine_quality_root_mean_squared_error: 0.6329 - wine_type_accuracy: 0.9940 - val_loss: 0.4199 - val_wine_quality_loss: 0.3862 - val_wine_type_loss: 0.0326 - val_wine_quality_root_mean_squared_error: 0.6221 - val_wine_type_accuracy: 0.9937\n",
      "Epoch 34/180\n",
      "3155/3155 [==============================] - 0s 70us/sample - loss: 0.4231 - wine_quality_loss: 0.3917 - wine_type_loss: 0.0317 - wine_quality_root_mean_squared_error: 0.6255 - wine_type_accuracy: 0.9943 - val_loss: 0.4089 - val_wine_quality_loss: 0.3754 - val_wine_type_loss: 0.0324 - val_wine_quality_root_mean_squared_error: 0.6133 - val_wine_type_accuracy: 0.9937\n",
      "Epoch 35/180\n",
      "3155/3155 [==============================] - 0s 85us/sample - loss: 0.4159 - wine_quality_loss: 0.3845 - wine_type_loss: 0.0316 - wine_quality_root_mean_squared_error: 0.6200 - wine_type_accuracy: 0.9946 - val_loss: 0.4104 - val_wine_quality_loss: 0.3767 - val_wine_type_loss: 0.0322 - val_wine_quality_root_mean_squared_error: 0.6147 - val_wine_type_accuracy: 0.9937\n",
      "Epoch 36/180\n",
      "3155/3155 [==============================] - 0s 70us/sample - loss: 0.4077 - wine_quality_loss: 0.3770 - wine_type_loss: 0.0311 - wine_quality_root_mean_squared_error: 0.6136 - wine_type_accuracy: 0.9943 - val_loss: 0.4009 - val_wine_quality_loss: 0.3675 - val_wine_type_loss: 0.0320 - val_wine_quality_root_mean_squared_error: 0.6071 - val_wine_type_accuracy: 0.9937\n",
      "Epoch 37/180\n",
      "3155/3155 [==============================] - 0s 83us/sample - loss: 0.4011 - wine_quality_loss: 0.3697 - wine_type_loss: 0.0308 - wine_quality_root_mean_squared_error: 0.6085 - wine_type_accuracy: 0.9943 - val_loss: 0.3932 - val_wine_quality_loss: 0.3602 - val_wine_type_loss: 0.0318 - val_wine_quality_root_mean_squared_error: 0.6009 - val_wine_type_accuracy: 0.9937\n",
      "Epoch 38/180\n",
      "3155/3155 [==============================] - 0s 72us/sample - loss: 0.3943 - wine_quality_loss: 0.3648 - wine_type_loss: 0.0304 - wine_quality_root_mean_squared_error: 0.6032 - wine_type_accuracy: 0.9943 - val_loss: 0.3854 - val_wine_quality_loss: 0.3526 - val_wine_type_loss: 0.0317 - val_wine_quality_root_mean_squared_error: 0.5945 - val_wine_type_accuracy: 0.9937\n",
      "Epoch 39/180\n",
      "3155/3155 [==============================] - 0s 85us/sample - loss: 0.3875 - wine_quality_loss: 0.3571 - wine_type_loss: 0.0302 - wine_quality_root_mean_squared_error: 0.5976 - wine_type_accuracy: 0.9946 - val_loss: 0.3829 - val_wine_quality_loss: 0.3504 - val_wine_type_loss: 0.0314 - val_wine_quality_root_mean_squared_error: 0.5925 - val_wine_type_accuracy: 0.9937\n",
      "Epoch 40/180\n",
      "3155/3155 [==============================] - 0s 72us/sample - loss: 0.3841 - wine_quality_loss: 0.3537 - wine_type_loss: 0.0299 - wine_quality_root_mean_squared_error: 0.5950 - wine_type_accuracy: 0.9943 - val_loss: 0.3831 - val_wine_quality_loss: 0.3508 - val_wine_type_loss: 0.0313 - val_wine_quality_root_mean_squared_error: 0.5928 - val_wine_type_accuracy: 0.9937\n",
      "Epoch 41/180\n",
      "3155/3155 [==============================] - 0s 71us/sample - loss: 0.3772 - wine_quality_loss: 0.3480 - wine_type_loss: 0.0297 - wine_quality_root_mean_squared_error: 0.5894 - wine_type_accuracy: 0.9943 - val_loss: 0.3793 - val_wine_quality_loss: 0.3466 - val_wine_type_loss: 0.0311 - val_wine_quality_root_mean_squared_error: 0.5898 - val_wine_type_accuracy: 0.9937\n",
      "Epoch 42/180\n",
      "3155/3155 [==============================] - 0s 86us/sample - loss: 0.3756 - wine_quality_loss: 0.3462 - wine_type_loss: 0.0294 - wine_quality_root_mean_squared_error: 0.5883 - wine_type_accuracy: 0.9943 - val_loss: 0.3729 - val_wine_quality_loss: 0.3410 - val_wine_type_loss: 0.0310 - val_wine_quality_root_mean_squared_error: 0.5844 - val_wine_type_accuracy: 0.9937\n",
      "Epoch 43/180\n"
     ]
    },
    {
     "name": "stdout",
     "output_type": "stream",
     "text": [
      "3155/3155 [==============================] - 0s 70us/sample - loss: 0.3705 - wine_quality_loss: 0.3413 - wine_type_loss: 0.0292 - wine_quality_root_mean_squared_error: 0.5841 - wine_type_accuracy: 0.9943 - val_loss: 0.3649 - val_wine_quality_loss: 0.3329 - val_wine_type_loss: 0.0309 - val_wine_quality_root_mean_squared_error: 0.5777 - val_wine_type_accuracy: 0.9937\n",
      "Epoch 44/180\n",
      "3155/3155 [==============================] - 0s 85us/sample - loss: 0.3674 - wine_quality_loss: 0.3380 - wine_type_loss: 0.0290 - wine_quality_root_mean_squared_error: 0.5817 - wine_type_accuracy: 0.9943 - val_loss: 0.3640 - val_wine_quality_loss: 0.3320 - val_wine_type_loss: 0.0307 - val_wine_quality_root_mean_squared_error: 0.5770 - val_wine_type_accuracy: 0.9937\n",
      "Epoch 45/180\n",
      "3155/3155 [==============================] - 0s 71us/sample - loss: 0.3631 - wine_quality_loss: 0.3344 - wine_type_loss: 0.0288 - wine_quality_root_mean_squared_error: 0.5781 - wine_type_accuracy: 0.9943 - val_loss: 0.3612 - val_wine_quality_loss: 0.3295 - val_wine_type_loss: 0.0305 - val_wine_quality_root_mean_squared_error: 0.5747 - val_wine_type_accuracy: 0.9937\n",
      "Epoch 46/180\n",
      "3155/3155 [==============================] - 0s 83us/sample - loss: 0.3610 - wine_quality_loss: 0.3325 - wine_type_loss: 0.0285 - wine_quality_root_mean_squared_error: 0.5766 - wine_type_accuracy: 0.9949 - val_loss: 0.3596 - val_wine_quality_loss: 0.3282 - val_wine_type_loss: 0.0305 - val_wine_quality_root_mean_squared_error: 0.5734 - val_wine_type_accuracy: 0.9949\n",
      "Epoch 47/180\n",
      "3155/3155 [==============================] - 0s 69us/sample - loss: 0.3570 - wine_quality_loss: 0.3281 - wine_type_loss: 0.0284 - wine_quality_root_mean_squared_error: 0.5732 - wine_type_accuracy: 0.9949 - val_loss: 0.3616 - val_wine_quality_loss: 0.3300 - val_wine_type_loss: 0.0304 - val_wine_quality_root_mean_squared_error: 0.5752 - val_wine_type_accuracy: 0.9949\n",
      "Epoch 48/180\n",
      "3155/3155 [==============================] - 0s 70us/sample - loss: 0.3555 - wine_quality_loss: 0.3273 - wine_type_loss: 0.0282 - wine_quality_root_mean_squared_error: 0.5721 - wine_type_accuracy: 0.9946 - val_loss: 0.3542 - val_wine_quality_loss: 0.3229 - val_wine_type_loss: 0.0302 - val_wine_quality_root_mean_squared_error: 0.5689 - val_wine_type_accuracy: 0.9949\n",
      "Epoch 49/180\n",
      "3155/3155 [==============================] - 0s 84us/sample - loss: 0.3526 - wine_quality_loss: 0.3244 - wine_type_loss: 0.0280 - wine_quality_root_mean_squared_error: 0.5696 - wine_type_accuracy: 0.9946 - val_loss: 0.3570 - val_wine_quality_loss: 0.3260 - val_wine_type_loss: 0.0300 - val_wine_quality_root_mean_squared_error: 0.5715 - val_wine_type_accuracy: 0.9949\n",
      "Epoch 50/180\n",
      "3155/3155 [==============================] - 0s 71us/sample - loss: 0.3501 - wine_quality_loss: 0.3220 - wine_type_loss: 0.0278 - wine_quality_root_mean_squared_error: 0.5676 - wine_type_accuracy: 0.9949 - val_loss: 0.3563 - val_wine_quality_loss: 0.3254 - val_wine_type_loss: 0.0299 - val_wine_quality_root_mean_squared_error: 0.5710 - val_wine_type_accuracy: 0.9949\n",
      "Epoch 51/180\n",
      "3155/3155 [==============================] - 0s 70us/sample - loss: 0.3490 - wine_quality_loss: 0.3212 - wine_type_loss: 0.0276 - wine_quality_root_mean_squared_error: 0.5668 - wine_type_accuracy: 0.9946 - val_loss: 0.3565 - val_wine_quality_loss: 0.3258 - val_wine_type_loss: 0.0299 - val_wine_quality_root_mean_squared_error: 0.5712 - val_wine_type_accuracy: 0.9949\n",
      "Epoch 52/180\n",
      "3155/3155 [==============================] - 0s 71us/sample - loss: 0.3471 - wine_quality_loss: 0.3190 - wine_type_loss: 0.0274 - wine_quality_root_mean_squared_error: 0.5653 - wine_type_accuracy: 0.9946 - val_loss: 0.3498 - val_wine_quality_loss: 0.3190 - val_wine_type_loss: 0.0298 - val_wine_quality_root_mean_squared_error: 0.5654 - val_wine_type_accuracy: 0.9949\n",
      "Epoch 53/180\n",
      "3155/3155 [==============================] - 0s 69us/sample - loss: 0.3453 - wine_quality_loss: 0.3181 - wine_type_loss: 0.0273 - wine_quality_root_mean_squared_error: 0.5638 - wine_type_accuracy: 0.9949 - val_loss: 0.3498 - val_wine_quality_loss: 0.3190 - val_wine_type_loss: 0.0297 - val_wine_quality_root_mean_squared_error: 0.5655 - val_wine_type_accuracy: 0.9949\n",
      "Epoch 54/180\n",
      "3155/3155 [==============================] - 0s 84us/sample - loss: 0.3440 - wine_quality_loss: 0.3163 - wine_type_loss: 0.0271 - wine_quality_root_mean_squared_error: 0.5629 - wine_type_accuracy: 0.9952 - val_loss: 0.3520 - val_wine_quality_loss: 0.3214 - val_wine_type_loss: 0.0296 - val_wine_quality_root_mean_squared_error: 0.5675 - val_wine_type_accuracy: 0.9949\n",
      "Epoch 55/180\n",
      "3155/3155 [==============================] - 0s 70us/sample - loss: 0.3411 - wine_quality_loss: 0.3146 - wine_type_loss: 0.0270 - wine_quality_root_mean_squared_error: 0.5604 - wine_type_accuracy: 0.9949 - val_loss: 0.3449 - val_wine_quality_loss: 0.3145 - val_wine_type_loss: 0.0295 - val_wine_quality_root_mean_squared_error: 0.5612 - val_wine_type_accuracy: 0.9949\n",
      "Epoch 56/180\n",
      "3155/3155 [==============================] - 0s 69us/sample - loss: 0.3399 - wine_quality_loss: 0.3137 - wine_type_loss: 0.0267 - wine_quality_root_mean_squared_error: 0.5595 - wine_type_accuracy: 0.9956 - val_loss: 0.3461 - val_wine_quality_loss: 0.3157 - val_wine_type_loss: 0.0296 - val_wine_quality_root_mean_squared_error: 0.5623 - val_wine_type_accuracy: 0.9949\n",
      "Epoch 57/180\n",
      "3155/3155 [==============================] - 0s 84us/sample - loss: 0.3384 - wine_quality_loss: 0.3115 - wine_type_loss: 0.0267 - wine_quality_root_mean_squared_error: 0.5582 - wine_type_accuracy: 0.9956 - val_loss: 0.3459 - val_wine_quality_loss: 0.3156 - val_wine_type_loss: 0.0295 - val_wine_quality_root_mean_squared_error: 0.5622 - val_wine_type_accuracy: 0.9949\n",
      "Epoch 58/180\n",
      "3155/3155 [==============================] - 0s 71us/sample - loss: 0.3379 - wine_quality_loss: 0.3121 - wine_type_loss: 0.0266 - wine_quality_root_mean_squared_error: 0.5579 - wine_type_accuracy: 0.9952 - val_loss: 0.3462 - val_wine_quality_loss: 0.3157 - val_wine_type_loss: 0.0294 - val_wine_quality_root_mean_squared_error: 0.5625 - val_wine_type_accuracy: 0.9949\n",
      "Epoch 59/180\n",
      "3155/3155 [==============================] - 0s 85us/sample - loss: 0.3356 - wine_quality_loss: 0.3096 - wine_type_loss: 0.0265 - wine_quality_root_mean_squared_error: 0.5560 - wine_type_accuracy: 0.9956 - val_loss: 0.3472 - val_wine_quality_loss: 0.3170 - val_wine_type_loss: 0.0293 - val_wine_quality_root_mean_squared_error: 0.5635 - val_wine_type_accuracy: 0.9949\n",
      "Epoch 60/180\n",
      "3155/3155 [==============================] - 0s 70us/sample - loss: 0.3351 - wine_quality_loss: 0.3084 - wine_type_loss: 0.0262 - wine_quality_root_mean_squared_error: 0.5556 - wine_type_accuracy: 0.9959 - val_loss: 0.3455 - val_wine_quality_loss: 0.3155 - val_wine_type_loss: 0.0292 - val_wine_quality_root_mean_squared_error: 0.5621 - val_wine_type_accuracy: 0.9949\n",
      "Epoch 61/180\n",
      "3155/3155 [==============================] - 0s 69us/sample - loss: 0.3334 - wine_quality_loss: 0.3071 - wine_type_loss: 0.0261 - wine_quality_root_mean_squared_error: 0.5543 - wine_type_accuracy: 0.9956 - val_loss: 0.3492 - val_wine_quality_loss: 0.3189 - val_wine_type_loss: 0.0291 - val_wine_quality_root_mean_squared_error: 0.5654 - val_wine_type_accuracy: 0.9949\n",
      "Epoch 62/180\n",
      "3155/3155 [==============================] - 0s 84us/sample - loss: 0.3328 - wine_quality_loss: 0.3063 - wine_type_loss: 0.0259 - wine_quality_root_mean_squared_error: 0.5539 - wine_type_accuracy: 0.9956 - val_loss: 0.3538 - val_wine_quality_loss: 0.3233 - val_wine_type_loss: 0.0291 - val_wine_quality_root_mean_squared_error: 0.5695 - val_wine_type_accuracy: 0.9949\n",
      "Epoch 63/180\n",
      "3155/3155 [==============================] - 0s 69us/sample - loss: 0.3322 - wine_quality_loss: 0.3073 - wine_type_loss: 0.0258 - wine_quality_root_mean_squared_error: 0.5534 - wine_type_accuracy: 0.9956 - val_loss: 0.3423 - val_wine_quality_loss: 0.3122 - val_wine_type_loss: 0.0290 - val_wine_quality_root_mean_squared_error: 0.5594 - val_wine_type_accuracy: 0.9949\n",
      "Epoch 64/180\n"
     ]
    },
    {
     "name": "stdout",
     "output_type": "stream",
     "text": [
      "3155/3155 [==============================] - 0s 84us/sample - loss: 0.3309 - wine_quality_loss: 0.3049 - wine_type_loss: 0.0257 - wine_quality_root_mean_squared_error: 0.5524 - wine_type_accuracy: 0.9959 - val_loss: 0.3396 - val_wine_quality_loss: 0.3096 - val_wine_type_loss: 0.0290 - val_wine_quality_root_mean_squared_error: 0.5570 - val_wine_type_accuracy: 0.9949\n",
      "Epoch 65/180\n",
      "3155/3155 [==============================] - 0s 72us/sample - loss: 0.3296 - wine_quality_loss: 0.3047 - wine_type_loss: 0.0255 - wine_quality_root_mean_squared_error: 0.5513 - wine_type_accuracy: 0.9959 - val_loss: 0.3459 - val_wine_quality_loss: 0.3158 - val_wine_type_loss: 0.0290 - val_wine_quality_root_mean_squared_error: 0.5627 - val_wine_type_accuracy: 0.9949\n",
      "Epoch 66/180\n",
      "3155/3155 [==============================] - 0s 69us/sample - loss: 0.3277 - wine_quality_loss: 0.3022 - wine_type_loss: 0.0255 - wine_quality_root_mean_squared_error: 0.5497 - wine_type_accuracy: 0.9959 - val_loss: 0.3459 - val_wine_quality_loss: 0.3160 - val_wine_type_loss: 0.0289 - val_wine_quality_root_mean_squared_error: 0.5628 - val_wine_type_accuracy: 0.9949\n",
      "Epoch 67/180\n",
      "3155/3155 [==============================] - 0s 87us/sample - loss: 0.3274 - wine_quality_loss: 0.3024 - wine_type_loss: 0.0252 - wine_quality_root_mean_squared_error: 0.5496 - wine_type_accuracy: 0.9959 - val_loss: 0.3424 - val_wine_quality_loss: 0.3126 - val_wine_type_loss: 0.0288 - val_wine_quality_root_mean_squared_error: 0.5597 - val_wine_type_accuracy: 0.9949\n",
      "Epoch 68/180\n",
      "3155/3155 [==============================] - 0s 69us/sample - loss: 0.3268 - wine_quality_loss: 0.3016 - wine_type_loss: 0.0251 - wine_quality_root_mean_squared_error: 0.5492 - wine_type_accuracy: 0.9959 - val_loss: 0.3426 - val_wine_quality_loss: 0.3127 - val_wine_type_loss: 0.0287 - val_wine_quality_root_mean_squared_error: 0.5599 - val_wine_type_accuracy: 0.9949\n",
      "Epoch 69/180\n",
      "3155/3155 [==============================] - 0s 86us/sample - loss: 0.3253 - wine_quality_loss: 0.2998 - wine_type_loss: 0.0250 - wine_quality_root_mean_squared_error: 0.5479 - wine_type_accuracy: 0.9959 - val_loss: 0.3396 - val_wine_quality_loss: 0.3099 - val_wine_type_loss: 0.0286 - val_wine_quality_root_mean_squared_error: 0.5574 - val_wine_type_accuracy: 0.9949\n",
      "Epoch 70/180\n",
      "3155/3155 [==============================] - 0s 71us/sample - loss: 0.3243 - wine_quality_loss: 0.2994 - wine_type_loss: 0.0249 - wine_quality_root_mean_squared_error: 0.5471 - wine_type_accuracy: 0.9959 - val_loss: 0.3469 - val_wine_quality_loss: 0.3172 - val_wine_type_loss: 0.0286 - val_wine_quality_root_mean_squared_error: 0.5638 - val_wine_type_accuracy: 0.9949\n",
      "Epoch 71/180\n",
      "3155/3155 [==============================] - 0s 87us/sample - loss: 0.3236 - wine_quality_loss: 0.2984 - wine_type_loss: 0.0247 - wine_quality_root_mean_squared_error: 0.5466 - wine_type_accuracy: 0.9959 - val_loss: 0.3352 - val_wine_quality_loss: 0.3060 - val_wine_type_loss: 0.0285 - val_wine_quality_root_mean_squared_error: 0.5535 - val_wine_type_accuracy: 0.9949\n",
      "Epoch 72/180\n",
      "3155/3155 [==============================] - 0s 70us/sample - loss: 0.3227 - wine_quality_loss: 0.2977 - wine_type_loss: 0.0246 - wine_quality_root_mean_squared_error: 0.5459 - wine_type_accuracy: 0.9959 - val_loss: 0.3498 - val_wine_quality_loss: 0.3204 - val_wine_type_loss: 0.0285 - val_wine_quality_root_mean_squared_error: 0.5665 - val_wine_type_accuracy: 0.9949\n",
      "Epoch 73/180\n",
      "3155/3155 [==============================] - 0s 84us/sample - loss: 0.3237 - wine_quality_loss: 0.2989 - wine_type_loss: 0.0245 - wine_quality_root_mean_squared_error: 0.5469 - wine_type_accuracy: 0.9959 - val_loss: 0.3380 - val_wine_quality_loss: 0.3086 - val_wine_type_loss: 0.0284 - val_wine_quality_root_mean_squared_error: 0.5560 - val_wine_type_accuracy: 0.9949\n",
      "Epoch 74/180\n",
      "3155/3155 [==============================] - 0s 71us/sample - loss: 0.3210 - wine_quality_loss: 0.2962 - wine_type_loss: 0.0244 - wine_quality_root_mean_squared_error: 0.5445 - wine_type_accuracy: 0.9959 - val_loss: 0.3440 - val_wine_quality_loss: 0.3146 - val_wine_type_loss: 0.0284 - val_wine_quality_root_mean_squared_error: 0.5615 - val_wine_type_accuracy: 0.9949\n",
      "Epoch 75/180\n",
      "3155/3155 [==============================] - 0s 70us/sample - loss: 0.3196 - wine_quality_loss: 0.2951 - wine_type_loss: 0.0243 - wine_quality_root_mean_squared_error: 0.5434 - wine_type_accuracy: 0.9959 - val_loss: 0.3400 - val_wine_quality_loss: 0.3106 - val_wine_type_loss: 0.0283 - val_wine_quality_root_mean_squared_error: 0.5580 - val_wine_type_accuracy: 0.9949\n",
      "Epoch 76/180\n",
      "3155/3155 [==============================] - 0s 85us/sample - loss: 0.3192 - wine_quality_loss: 0.2947 - wine_type_loss: 0.0241 - wine_quality_root_mean_squared_error: 0.5431 - wine_type_accuracy: 0.9959 - val_loss: 0.3351 - val_wine_quality_loss: 0.3058 - val_wine_type_loss: 0.0283 - val_wine_quality_root_mean_squared_error: 0.5535 - val_wine_type_accuracy: 0.9949\n",
      "Epoch 77/180\n",
      "3155/3155 [==============================] - 0s 71us/sample - loss: 0.3183 - wine_quality_loss: 0.2938 - wine_type_loss: 0.0240 - wine_quality_root_mean_squared_error: 0.5424 - wine_type_accuracy: 0.9959 - val_loss: 0.3497 - val_wine_quality_loss: 0.3203 - val_wine_type_loss: 0.0282 - val_wine_quality_root_mean_squared_error: 0.5667 - val_wine_type_accuracy: 0.9949\n",
      "Epoch 78/180\n",
      "3155/3155 [==============================] - 0s 86us/sample - loss: 0.3190 - wine_quality_loss: 0.2946 - wine_type_loss: 0.0240 - wine_quality_root_mean_squared_error: 0.5431 - wine_type_accuracy: 0.9959 - val_loss: 0.3329 - val_wine_quality_loss: 0.3039 - val_wine_type_loss: 0.0282 - val_wine_quality_root_mean_squared_error: 0.5517 - val_wine_type_accuracy: 0.9949\n",
      "Epoch 79/180\n",
      "3155/3155 [==============================] - 0s 71us/sample - loss: 0.3170 - wine_quality_loss: 0.2937 - wine_type_loss: 0.0238 - wine_quality_root_mean_squared_error: 0.5414 - wine_type_accuracy: 0.9959 - val_loss: 0.3378 - val_wine_quality_loss: 0.3086 - val_wine_type_loss: 0.0282 - val_wine_quality_root_mean_squared_error: 0.5561 - val_wine_type_accuracy: 0.9949\n",
      "Epoch 80/180\n",
      "3155/3155 [==============================] - 0s 86us/sample - loss: 0.3164 - wine_quality_loss: 0.2926 - wine_type_loss: 0.0237 - wine_quality_root_mean_squared_error: 0.5409 - wine_type_accuracy: 0.9959 - val_loss: 0.3371 - val_wine_quality_loss: 0.3079 - val_wine_type_loss: 0.0281 - val_wine_quality_root_mean_squared_error: 0.5556 - val_wine_type_accuracy: 0.9949\n",
      "Epoch 81/180\n",
      "3155/3155 [==============================] - 0s 71us/sample - loss: 0.3167 - wine_quality_loss: 0.2933 - wine_type_loss: 0.0236 - wine_quality_root_mean_squared_error: 0.5414 - wine_type_accuracy: 0.9959 - val_loss: 0.3346 - val_wine_quality_loss: 0.3057 - val_wine_type_loss: 0.0281 - val_wine_quality_root_mean_squared_error: 0.5533 - val_wine_type_accuracy: 0.9949\n",
      "Epoch 82/180\n",
      "3155/3155 [==============================] - 0s 85us/sample - loss: 0.3154 - wine_quality_loss: 0.2915 - wine_type_loss: 0.0235 - wine_quality_root_mean_squared_error: 0.5402 - wine_type_accuracy: 0.9959 - val_loss: 0.3408 - val_wine_quality_loss: 0.3119 - val_wine_type_loss: 0.0280 - val_wine_quality_root_mean_squared_error: 0.5589 - val_wine_type_accuracy: 0.9949\n",
      "Epoch 83/180\n",
      "3155/3155 [==============================] - 0s 72us/sample - loss: 0.3151 - wine_quality_loss: 0.2918 - wine_type_loss: 0.0233 - wine_quality_root_mean_squared_error: 0.5400 - wine_type_accuracy: 0.9959 - val_loss: 0.3446 - val_wine_quality_loss: 0.3157 - val_wine_type_loss: 0.0280 - val_wine_quality_root_mean_squared_error: 0.5624 - val_wine_type_accuracy: 0.9949\n",
      "Epoch 84/180\n",
      "3155/3155 [==============================] - 0s 70us/sample - loss: 0.3147 - wine_quality_loss: 0.2916 - wine_type_loss: 0.0233 - wine_quality_root_mean_squared_error: 0.5397 - wine_type_accuracy: 0.9959 - val_loss: 0.3337 - val_wine_quality_loss: 0.3050 - val_wine_type_loss: 0.0279 - val_wine_quality_root_mean_squared_error: 0.5526 - val_wine_type_accuracy: 0.9949\n",
      "Epoch 85/180\n"
     ]
    },
    {
     "name": "stdout",
     "output_type": "stream",
     "text": [
      "3155/3155 [==============================] - 0s 85us/sample - loss: 0.3135 - wine_quality_loss: 0.2908 - wine_type_loss: 0.0231 - wine_quality_root_mean_squared_error: 0.5388 - wine_type_accuracy: 0.9959 - val_loss: 0.3523 - val_wine_quality_loss: 0.3234 - val_wine_type_loss: 0.0280 - val_wine_quality_root_mean_squared_error: 0.5692 - val_wine_type_accuracy: 0.9949\n",
      "Epoch 86/180\n",
      "3155/3155 [==============================] - 0s 70us/sample - loss: 0.3130 - wine_quality_loss: 0.2909 - wine_type_loss: 0.0230 - wine_quality_root_mean_squared_error: 0.5384 - wine_type_accuracy: 0.9959 - val_loss: 0.3401 - val_wine_quality_loss: 0.3110 - val_wine_type_loss: 0.0278 - val_wine_quality_root_mean_squared_error: 0.5585 - val_wine_type_accuracy: 0.9949\n",
      "Epoch 87/180\n",
      "3155/3155 [==============================] - 0s 85us/sample - loss: 0.3130 - wine_quality_loss: 0.2896 - wine_type_loss: 0.0229 - wine_quality_root_mean_squared_error: 0.5386 - wine_type_accuracy: 0.9959 - val_loss: 0.3332 - val_wine_quality_loss: 0.3045 - val_wine_type_loss: 0.0278 - val_wine_quality_root_mean_squared_error: 0.5523 - val_wine_type_accuracy: 0.9949\n",
      "Epoch 88/180\n",
      "3155/3155 [==============================] - 0s 71us/sample - loss: 0.3116 - wine_quality_loss: 0.2887 - wine_type_loss: 0.0229 - wine_quality_root_mean_squared_error: 0.5373 - wine_type_accuracy: 0.9959 - val_loss: 0.3327 - val_wine_quality_loss: 0.3040 - val_wine_type_loss: 0.0277 - val_wine_quality_root_mean_squared_error: 0.5519 - val_wine_type_accuracy: 0.9949\n",
      "Epoch 89/180\n",
      "3155/3155 [==============================] - 0s 70us/sample - loss: 0.3118 - wine_quality_loss: 0.2885 - wine_type_loss: 0.0227 - wine_quality_root_mean_squared_error: 0.5375 - wine_type_accuracy: 0.9959 - val_loss: 0.3344 - val_wine_quality_loss: 0.3056 - val_wine_type_loss: 0.0277 - val_wine_quality_root_mean_squared_error: 0.5535 - val_wine_type_accuracy: 0.9949\n",
      "Epoch 90/180\n",
      "3155/3155 [==============================] - 0s 86us/sample - loss: 0.3111 - wine_quality_loss: 0.2885 - wine_type_loss: 0.0227 - wine_quality_root_mean_squared_error: 0.5369 - wine_type_accuracy: 0.9959 - val_loss: 0.3332 - val_wine_quality_loss: 0.3046 - val_wine_type_loss: 0.0277 - val_wine_quality_root_mean_squared_error: 0.5524 - val_wine_type_accuracy: 0.9949\n",
      "Epoch 91/180\n",
      "3155/3155 [==============================] - 0s 71us/sample - loss: 0.3102 - wine_quality_loss: 0.2878 - wine_type_loss: 0.0225 - wine_quality_root_mean_squared_error: 0.5363 - wine_type_accuracy: 0.9959 - val_loss: 0.3383 - val_wine_quality_loss: 0.3097 - val_wine_type_loss: 0.0276 - val_wine_quality_root_mean_squared_error: 0.5571 - val_wine_type_accuracy: 0.9949\n",
      "Epoch 92/180\n",
      "3155/3155 [==============================] - 0s 87us/sample - loss: 0.3098 - wine_quality_loss: 0.2874 - wine_type_loss: 0.0225 - wine_quality_root_mean_squared_error: 0.5360 - wine_type_accuracy: 0.9959 - val_loss: 0.3299 - val_wine_quality_loss: 0.3014 - val_wine_type_loss: 0.0276 - val_wine_quality_root_mean_squared_error: 0.5495 - val_wine_type_accuracy: 0.9949\n",
      "Epoch 93/180\n",
      "3155/3155 [==============================] - 0s 69us/sample - loss: 0.3082 - wine_quality_loss: 0.2856 - wine_type_loss: 0.0224 - wine_quality_root_mean_squared_error: 0.5345 - wine_type_accuracy: 0.9959 - val_loss: 0.3381 - val_wine_quality_loss: 0.3096 - val_wine_type_loss: 0.0276 - val_wine_quality_root_mean_squared_error: 0.5570 - val_wine_type_accuracy: 0.9949\n",
      "Epoch 94/180\n",
      "3155/3155 [==============================] - 0s 87us/sample - loss: 0.3092 - wine_quality_loss: 0.2872 - wine_type_loss: 0.0222 - wine_quality_root_mean_squared_error: 0.5356 - wine_type_accuracy: 0.9959 - val_loss: 0.3297 - val_wine_quality_loss: 0.3013 - val_wine_type_loss: 0.0275 - val_wine_quality_root_mean_squared_error: 0.5494 - val_wine_type_accuracy: 0.9949\n",
      "Epoch 95/180\n",
      "3155/3155 [==============================] - 0s 70us/sample - loss: 0.3064 - wine_quality_loss: 0.2844 - wine_type_loss: 0.0221 - wine_quality_root_mean_squared_error: 0.5331 - wine_type_accuracy: 0.9959 - val_loss: 0.3365 - val_wine_quality_loss: 0.3078 - val_wine_type_loss: 0.0275 - val_wine_quality_root_mean_squared_error: 0.5556 - val_wine_type_accuracy: 0.9949\n",
      "Epoch 96/180\n",
      "3155/3155 [==============================] - 0s 85us/sample - loss: 0.3071 - wine_quality_loss: 0.2853 - wine_type_loss: 0.0220 - wine_quality_root_mean_squared_error: 0.5339 - wine_type_accuracy: 0.9959 - val_loss: 0.3320 - val_wine_quality_loss: 0.3036 - val_wine_type_loss: 0.0274 - val_wine_quality_root_mean_squared_error: 0.5515 - val_wine_type_accuracy: 0.9949\n",
      "Epoch 97/180\n",
      "3155/3155 [==============================] - 0s 71us/sample - loss: 0.3069 - wine_quality_loss: 0.2852 - wine_type_loss: 0.0219 - wine_quality_root_mean_squared_error: 0.5338 - wine_type_accuracy: 0.9959 - val_loss: 0.3420 - val_wine_quality_loss: 0.3135 - val_wine_type_loss: 0.0274 - val_wine_quality_root_mean_squared_error: 0.5606 - val_wine_type_accuracy: 0.9949\n",
      "Epoch 98/180\n",
      "3155/3155 [==============================] - 0s 84us/sample - loss: 0.3058 - wine_quality_loss: 0.2837 - wine_type_loss: 0.0218 - wine_quality_root_mean_squared_error: 0.5328 - wine_type_accuracy: 0.9959 - val_loss: 0.3292 - val_wine_quality_loss: 0.3011 - val_wine_type_loss: 0.0273 - val_wine_quality_root_mean_squared_error: 0.5492 - val_wine_type_accuracy: 0.9949\n",
      "Epoch 99/180\n",
      "3155/3155 [==============================] - 0s 71us/sample - loss: 0.3056 - wine_quality_loss: 0.2839 - wine_type_loss: 0.0230 - wine_quality_root_mean_squared_error: 0.5328 - wine_type_accuracy: 0.9959 - val_loss: 0.3376 - val_wine_quality_loss: 0.3094 - val_wine_type_loss: 0.0273 - val_wine_quality_root_mean_squared_error: 0.5568 - val_wine_type_accuracy: 0.9949\n",
      "Epoch 100/180\n",
      "3155/3155 [==============================] - 0s 72us/sample - loss: 0.3043 - wine_quality_loss: 0.2825 - wine_type_loss: 0.0216 - wine_quality_root_mean_squared_error: 0.5316 - wine_type_accuracy: 0.9959 - val_loss: 0.3317 - val_wine_quality_loss: 0.3038 - val_wine_type_loss: 0.0273 - val_wine_quality_root_mean_squared_error: 0.5515 - val_wine_type_accuracy: 0.9949\n",
      "Epoch 101/180\n",
      "3155/3155 [==============================] - 0s 73us/sample - loss: 0.3040 - wine_quality_loss: 0.2825 - wine_type_loss: 0.0216 - wine_quality_root_mean_squared_error: 0.5314 - wine_type_accuracy: 0.9959 - val_loss: 0.3365 - val_wine_quality_loss: 0.3082 - val_wine_type_loss: 0.0272 - val_wine_quality_root_mean_squared_error: 0.5558 - val_wine_type_accuracy: 0.9949\n",
      "Epoch 102/180\n",
      "3155/3155 [==============================] - 0s 70us/sample - loss: 0.3039 - wine_quality_loss: 0.2829 - wine_type_loss: 0.0214 - wine_quality_root_mean_squared_error: 0.5314 - wine_type_accuracy: 0.9962 - val_loss: 0.3348 - val_wine_quality_loss: 0.3064 - val_wine_type_loss: 0.0272 - val_wine_quality_root_mean_squared_error: 0.5543 - val_wine_type_accuracy: 0.9949\n",
      "Epoch 103/180\n",
      "3155/3155 [==============================] - 0s 87us/sample - loss: 0.3031 - wine_quality_loss: 0.2816 - wine_type_loss: 0.0213 - wine_quality_root_mean_squared_error: 0.5308 - wine_type_accuracy: 0.9959 - val_loss: 0.3337 - val_wine_quality_loss: 0.3056 - val_wine_type_loss: 0.0271 - val_wine_quality_root_mean_squared_error: 0.5534 - val_wine_type_accuracy: 0.9949\n",
      "Epoch 104/180\n",
      "3155/3155 [==============================] - 0s 89us/sample - loss: 0.3020 - wine_quality_loss: 0.2802 - wine_type_loss: 0.0213 - wine_quality_root_mean_squared_error: 0.5298 - wine_type_accuracy: 0.9962 - val_loss: 0.3359 - val_wine_quality_loss: 0.3079 - val_wine_type_loss: 0.0271 - val_wine_quality_root_mean_squared_error: 0.5554 - val_wine_type_accuracy: 0.9949\n",
      "Epoch 105/180\n",
      "3155/3155 [==============================] - 0s 70us/sample - loss: 0.3022 - wine_quality_loss: 0.2807 - wine_type_loss: 0.0211 - wine_quality_root_mean_squared_error: 0.5301 - wine_type_accuracy: 0.9959 - val_loss: 0.3389 - val_wine_quality_loss: 0.3107 - val_wine_type_loss: 0.0271 - val_wine_quality_root_mean_squared_error: 0.5581 - val_wine_type_accuracy: 0.9949\n",
      "Epoch 106/180\n"
     ]
    },
    {
     "name": "stdout",
     "output_type": "stream",
     "text": [
      "3155/3155 [==============================] - 0s 69us/sample - loss: 0.3023 - wine_quality_loss: 0.2808 - wine_type_loss: 0.0211 - wine_quality_root_mean_squared_error: 0.5302 - wine_type_accuracy: 0.9959 - val_loss: 0.3311 - val_wine_quality_loss: 0.3032 - val_wine_type_loss: 0.0270 - val_wine_quality_root_mean_squared_error: 0.5511 - val_wine_type_accuracy: 0.9949\n",
      "Epoch 107/180\n",
      "3155/3155 [==============================] - 0s 84us/sample - loss: 0.3011 - wine_quality_loss: 0.2799 - wine_type_loss: 0.0210 - wine_quality_root_mean_squared_error: 0.5292 - wine_type_accuracy: 0.9959 - val_loss: 0.3373 - val_wine_quality_loss: 0.3094 - val_wine_type_loss: 0.0270 - val_wine_quality_root_mean_squared_error: 0.5568 - val_wine_type_accuracy: 0.9949\n",
      "Epoch 108/180\n",
      "3155/3155 [==============================] - 0s 69us/sample - loss: 0.3006 - wine_quality_loss: 0.2801 - wine_type_loss: 0.0209 - wine_quality_root_mean_squared_error: 0.5289 - wine_type_accuracy: 0.9959 - val_loss: 0.3376 - val_wine_quality_loss: 0.3096 - val_wine_type_loss: 0.0269 - val_wine_quality_root_mean_squared_error: 0.5570 - val_wine_type_accuracy: 0.9949\n",
      "Epoch 109/180\n",
      "3155/3155 [==============================] - 0s 68us/sample - loss: 0.2998 - wine_quality_loss: 0.2785 - wine_type_loss: 0.0210 - wine_quality_root_mean_squared_error: 0.5282 - wine_type_accuracy: 0.9962 - val_loss: 0.3314 - val_wine_quality_loss: 0.3036 - val_wine_type_loss: 0.0269 - val_wine_quality_root_mean_squared_error: 0.5515 - val_wine_type_accuracy: 0.9949\n",
      "Epoch 110/180\n",
      "3155/3155 [==============================] - 0s 86us/sample - loss: 0.3002 - wine_quality_loss: 0.2795 - wine_type_loss: 0.0207 - wine_quality_root_mean_squared_error: 0.5287 - wine_type_accuracy: 0.9959 - val_loss: 0.3309 - val_wine_quality_loss: 0.3032 - val_wine_type_loss: 0.0268 - val_wine_quality_root_mean_squared_error: 0.5511 - val_wine_type_accuracy: 0.9949\n",
      "Epoch 111/180\n",
      "3155/3155 [==============================] - 0s 70us/sample - loss: 0.2991 - wine_quality_loss: 0.2793 - wine_type_loss: 0.0205 - wine_quality_root_mean_squared_error: 0.5278 - wine_type_accuracy: 0.9962 - val_loss: 0.3339 - val_wine_quality_loss: 0.3061 - val_wine_type_loss: 0.0268 - val_wine_quality_root_mean_squared_error: 0.5538 - val_wine_type_accuracy: 0.9949\n",
      "Epoch 112/180\n",
      "3155/3155 [==============================] - 0s 83us/sample - loss: 0.2979 - wine_quality_loss: 0.2774 - wine_type_loss: 0.0205 - wine_quality_root_mean_squared_error: 0.5265 - wine_type_accuracy: 0.9962 - val_loss: 0.3379 - val_wine_quality_loss: 0.3102 - val_wine_type_loss: 0.0268 - val_wine_quality_root_mean_squared_error: 0.5575 - val_wine_type_accuracy: 0.9949\n",
      "Epoch 113/180\n",
      "3155/3155 [==============================] - 0s 70us/sample - loss: 0.2974 - wine_quality_loss: 0.2768 - wine_type_loss: 0.0214 - wine_quality_root_mean_squared_error: 0.5262 - wine_type_accuracy: 0.9962 - val_loss: 0.3332 - val_wine_quality_loss: 0.3058 - val_wine_type_loss: 0.0267 - val_wine_quality_root_mean_squared_error: 0.5533 - val_wine_type_accuracy: 0.9949\n",
      "Epoch 114/180\n",
      "3155/3155 [==============================] - 0s 70us/sample - loss: 0.2982 - wine_quality_loss: 0.2779 - wine_type_loss: 0.0216 - wine_quality_root_mean_squared_error: 0.5271 - wine_type_accuracy: 0.9962 - val_loss: 0.3270 - val_wine_quality_loss: 0.2995 - val_wine_type_loss: 0.0267 - val_wine_quality_root_mean_squared_error: 0.5477 - val_wine_type_accuracy: 0.9949\n",
      "Epoch 115/180\n",
      "3155/3155 [==============================] - 0s 85us/sample - loss: 0.2964 - wine_quality_loss: 0.2760 - wine_type_loss: 0.0203 - wine_quality_root_mean_squared_error: 0.5254 - wine_type_accuracy: 0.9959 - val_loss: 0.3365 - val_wine_quality_loss: 0.3086 - val_wine_type_loss: 0.0267 - val_wine_quality_root_mean_squared_error: 0.5564 - val_wine_type_accuracy: 0.9949\n",
      "Epoch 116/180\n",
      "3155/3155 [==============================] - 0s 71us/sample - loss: 0.2971 - wine_quality_loss: 0.2768 - wine_type_loss: 0.0202 - wine_quality_root_mean_squared_error: 0.5262 - wine_type_accuracy: 0.9962 - val_loss: 0.3277 - val_wine_quality_loss: 0.3003 - val_wine_type_loss: 0.0266 - val_wine_quality_root_mean_squared_error: 0.5484 - val_wine_type_accuracy: 0.9949\n",
      "Epoch 117/180\n",
      "3155/3155 [==============================] - 0s 83us/sample - loss: 0.2956 - wine_quality_loss: 0.2752 - wine_type_loss: 0.0201 - wine_quality_root_mean_squared_error: 0.5248 - wine_type_accuracy: 0.9962 - val_loss: 0.3326 - val_wine_quality_loss: 0.3051 - val_wine_type_loss: 0.0266 - val_wine_quality_root_mean_squared_error: 0.5529 - val_wine_type_accuracy: 0.9949\n",
      "Epoch 118/180\n",
      "3155/3155 [==============================] - 0s 70us/sample - loss: 0.2960 - wine_quality_loss: 0.2764 - wine_type_loss: 0.0200 - wine_quality_root_mean_squared_error: 0.5254 - wine_type_accuracy: 0.9962 - val_loss: 0.3341 - val_wine_quality_loss: 0.3066 - val_wine_type_loss: 0.0266 - val_wine_quality_root_mean_squared_error: 0.5542 - val_wine_type_accuracy: 0.9949\n",
      "Epoch 119/180\n",
      "3155/3155 [==============================] - 0s 68us/sample - loss: 0.2956 - wine_quality_loss: 0.2758 - wine_type_loss: 0.0199 - wine_quality_root_mean_squared_error: 0.5250 - wine_type_accuracy: 0.9962 - val_loss: 0.3327 - val_wine_quality_loss: 0.3053 - val_wine_type_loss: 0.0266 - val_wine_quality_root_mean_squared_error: 0.5529 - val_wine_type_accuracy: 0.9949\n",
      "Epoch 120/180\n",
      "3155/3155 [==============================] - 0s 84us/sample - loss: 0.2943 - wine_quality_loss: 0.2746 - wine_type_loss: 0.0199 - wine_quality_root_mean_squared_error: 0.5238 - wine_type_accuracy: 0.9962 - val_loss: 0.3373 - val_wine_quality_loss: 0.3099 - val_wine_type_loss: 0.0266 - val_wine_quality_root_mean_squared_error: 0.5571 - val_wine_type_accuracy: 0.9949\n",
      "Epoch 121/180\n",
      "3155/3155 [==============================] - 0s 72us/sample - loss: 0.2939 - wine_quality_loss: 0.2737 - wine_type_loss: 0.0198 - wine_quality_root_mean_squared_error: 0.5235 - wine_type_accuracy: 0.9962 - val_loss: 0.3393 - val_wine_quality_loss: 0.3114 - val_wine_type_loss: 0.0265 - val_wine_quality_root_mean_squared_error: 0.5590 - val_wine_type_accuracy: 0.9949\n",
      "Epoch 122/180\n",
      "3155/3155 [==============================] - 0s 70us/sample - loss: 0.2939 - wine_quality_loss: 0.2738 - wine_type_loss: 0.0197 - wine_quality_root_mean_squared_error: 0.5236 - wine_type_accuracy: 0.9962 - val_loss: 0.3323 - val_wine_quality_loss: 0.3048 - val_wine_type_loss: 0.0265 - val_wine_quality_root_mean_squared_error: 0.5527 - val_wine_type_accuracy: 0.9949\n",
      "Epoch 123/180\n",
      "3155/3155 [==============================] - 0s 86us/sample - loss: 0.2932 - wine_quality_loss: 0.2741 - wine_type_loss: 0.0196 - wine_quality_root_mean_squared_error: 0.5231 - wine_type_accuracy: 0.9962 - val_loss: 0.3316 - val_wine_quality_loss: 0.3043 - val_wine_type_loss: 0.0264 - val_wine_quality_root_mean_squared_error: 0.5521 - val_wine_type_accuracy: 0.9949\n",
      "Epoch 124/180\n",
      "3155/3155 [==============================] - 0s 69us/sample - loss: 0.2934 - wine_quality_loss: 0.2740 - wine_type_loss: 0.0195 - wine_quality_root_mean_squared_error: 0.5232 - wine_type_accuracy: 0.9962 - val_loss: 0.3302 - val_wine_quality_loss: 0.3027 - val_wine_type_loss: 0.0264 - val_wine_quality_root_mean_squared_error: 0.5509 - val_wine_type_accuracy: 0.9949\n",
      "Epoch 125/180\n",
      "3155/3155 [==============================] - 0s 84us/sample - loss: 0.2918 - wine_quality_loss: 0.2727 - wine_type_loss: 0.0194 - wine_quality_root_mean_squared_error: 0.5219 - wine_type_accuracy: 0.9962 - val_loss: 0.3282 - val_wine_quality_loss: 0.3010 - val_wine_type_loss: 0.0263 - val_wine_quality_root_mean_squared_error: 0.5491 - val_wine_type_accuracy: 0.9949\n",
      "Epoch 126/180\n",
      "3155/3155 [==============================] - 0s 69us/sample - loss: 0.2935 - wine_quality_loss: 0.2738 - wine_type_loss: 0.0193 - wine_quality_root_mean_squared_error: 0.5235 - wine_type_accuracy: 0.9962 - val_loss: 0.3265 - val_wine_quality_loss: 0.2995 - val_wine_type_loss: 0.0263 - val_wine_quality_root_mean_squared_error: 0.5476 - val_wine_type_accuracy: 0.9949\n",
      "Epoch 127/180\n"
     ]
    },
    {
     "name": "stdout",
     "output_type": "stream",
     "text": [
      "3155/3155 [==============================] - 0s 70us/sample - loss: 0.2923 - wine_quality_loss: 0.2731 - wine_type_loss: 0.0193 - wine_quality_root_mean_squared_error: 0.5225 - wine_type_accuracy: 0.9962 - val_loss: 0.3282 - val_wine_quality_loss: 0.3012 - val_wine_type_loss: 0.0262 - val_wine_quality_root_mean_squared_error: 0.5493 - val_wine_type_accuracy: 0.9949\n",
      "Epoch 128/180\n",
      "3155/3155 [==============================] - 0s 85us/sample - loss: 0.2906 - wine_quality_loss: 0.2719 - wine_type_loss: 0.0192 - wine_quality_root_mean_squared_error: 0.5209 - wine_type_accuracy: 0.9962 - val_loss: 0.3297 - val_wine_quality_loss: 0.3027 - val_wine_type_loss: 0.0262 - val_wine_quality_root_mean_squared_error: 0.5507 - val_wine_type_accuracy: 0.9949\n",
      "Epoch 129/180\n",
      "3155/3155 [==============================] - 0s 71us/sample - loss: 0.2911 - wine_quality_loss: 0.2721 - wine_type_loss: 0.0190 - wine_quality_root_mean_squared_error: 0.5215 - wine_type_accuracy: 0.9962 - val_loss: 0.3302 - val_wine_quality_loss: 0.3030 - val_wine_type_loss: 0.0262 - val_wine_quality_root_mean_squared_error: 0.5511 - val_wine_type_accuracy: 0.9949\n",
      "Epoch 130/180\n",
      "3155/3155 [==============================] - 0s 84us/sample - loss: 0.2910 - wine_quality_loss: 0.2722 - wine_type_loss: 0.0191 - wine_quality_root_mean_squared_error: 0.5215 - wine_type_accuracy: 0.9962 - val_loss: 0.3332 - val_wine_quality_loss: 0.3063 - val_wine_type_loss: 0.0261 - val_wine_quality_root_mean_squared_error: 0.5539 - val_wine_type_accuracy: 0.9949\n",
      "Epoch 131/180\n",
      "3155/3155 [==============================] - 0s 70us/sample - loss: 0.2902 - wine_quality_loss: 0.2715 - wine_type_loss: 0.0190 - wine_quality_root_mean_squared_error: 0.5208 - wine_type_accuracy: 0.9962 - val_loss: 0.3296 - val_wine_quality_loss: 0.3029 - val_wine_type_loss: 0.0261 - val_wine_quality_root_mean_squared_error: 0.5506 - val_wine_type_accuracy: 0.9949\n",
      "Epoch 132/180\n",
      "3155/3155 [==============================] - 0s 86us/sample - loss: 0.2895 - wine_quality_loss: 0.2709 - wine_type_loss: 0.0188 - wine_quality_root_mean_squared_error: 0.5202 - wine_type_accuracy: 0.9962 - val_loss: 0.3264 - val_wine_quality_loss: 0.2996 - val_wine_type_loss: 0.0261 - val_wine_quality_root_mean_squared_error: 0.5477 - val_wine_type_accuracy: 0.9949\n",
      "Epoch 133/180\n",
      "3155/3155 [==============================] - 0s 71us/sample - loss: 0.2886 - wine_quality_loss: 0.2701 - wine_type_loss: 0.0188 - wine_quality_root_mean_squared_error: 0.5194 - wine_type_accuracy: 0.9962 - val_loss: 0.3278 - val_wine_quality_loss: 0.3011 - val_wine_type_loss: 0.0261 - val_wine_quality_root_mean_squared_error: 0.5490 - val_wine_type_accuracy: 0.9949\n",
      "Epoch 134/180\n",
      "3155/3155 [==============================] - 0s 70us/sample - loss: 0.2890 - wine_quality_loss: 0.2700 - wine_type_loss: 0.0187 - wine_quality_root_mean_squared_error: 0.5199 - wine_type_accuracy: 0.9965 - val_loss: 0.3360 - val_wine_quality_loss: 0.3089 - val_wine_type_loss: 0.0261 - val_wine_quality_root_mean_squared_error: 0.5564 - val_wine_type_accuracy: 0.9949\n",
      "Epoch 135/180\n",
      "3155/3155 [==============================] - 0s 84us/sample - loss: 0.2877 - wine_quality_loss: 0.2691 - wine_type_loss: 0.0187 - wine_quality_root_mean_squared_error: 0.5186 - wine_type_accuracy: 0.9965 - val_loss: 0.3326 - val_wine_quality_loss: 0.3060 - val_wine_type_loss: 0.0260 - val_wine_quality_root_mean_squared_error: 0.5534 - val_wine_type_accuracy: 0.9949\n",
      "Epoch 136/180\n",
      "3155/3155 [==============================] - 0s 71us/sample - loss: 0.2887 - wine_quality_loss: 0.2708 - wine_type_loss: 0.0186 - wine_quality_root_mean_squared_error: 0.5197 - wine_type_accuracy: 0.9962 - val_loss: 0.3299 - val_wine_quality_loss: 0.3030 - val_wine_type_loss: 0.0260 - val_wine_quality_root_mean_squared_error: 0.5510 - val_wine_type_accuracy: 0.9949\n",
      "Epoch 137/180\n",
      "3155/3155 [==============================] - 0s 87us/sample - loss: 0.2885 - wine_quality_loss: 0.2701 - wine_type_loss: 0.0185 - wine_quality_root_mean_squared_error: 0.5196 - wine_type_accuracy: 0.9962 - val_loss: 0.3295 - val_wine_quality_loss: 0.3027 - val_wine_type_loss: 0.0260 - val_wine_quality_root_mean_squared_error: 0.5506 - val_wine_type_accuracy: 0.9949\n",
      "Epoch 138/180\n",
      "3155/3155 [==============================] - 0s 70us/sample - loss: 0.2870 - wine_quality_loss: 0.2685 - wine_type_loss: 0.0186 - wine_quality_root_mean_squared_error: 0.5182 - wine_type_accuracy: 0.9962 - val_loss: 0.3338 - val_wine_quality_loss: 0.3071 - val_wine_type_loss: 0.0259 - val_wine_quality_root_mean_squared_error: 0.5545 - val_wine_type_accuracy: 0.9949\n",
      "Epoch 139/180\n",
      "3155/3155 [==============================] - 0s 85us/sample - loss: 0.2872 - wine_quality_loss: 0.2683 - wine_type_loss: 0.0183 - wine_quality_root_mean_squared_error: 0.5185 - wine_type_accuracy: 0.9968 - val_loss: 0.3285 - val_wine_quality_loss: 0.3018 - val_wine_type_loss: 0.0259 - val_wine_quality_root_mean_squared_error: 0.5498 - val_wine_type_accuracy: 0.9949\n",
      "Epoch 140/180\n",
      "3155/3155 [==============================] - 0s 72us/sample - loss: 0.2862 - wine_quality_loss: 0.2679 - wine_type_loss: 0.0189 - wine_quality_root_mean_squared_error: 0.5176 - wine_type_accuracy: 0.9968 - val_loss: 0.3352 - val_wine_quality_loss: 0.3085 - val_wine_type_loss: 0.0259 - val_wine_quality_root_mean_squared_error: 0.5559 - val_wine_type_accuracy: 0.9949\n",
      "Epoch 141/180\n",
      "3155/3155 [==============================] - 0s 88us/sample - loss: 0.2865 - wine_quality_loss: 0.2686 - wine_type_loss: 0.0182 - wine_quality_root_mean_squared_error: 0.5179 - wine_type_accuracy: 0.9965 - val_loss: 0.3268 - val_wine_quality_loss: 0.3000 - val_wine_type_loss: 0.0258 - val_wine_quality_root_mean_squared_error: 0.5483 - val_wine_type_accuracy: 0.9949\n",
      "Epoch 142/180\n",
      "3155/3155 [==============================] - 0s 70us/sample - loss: 0.2859 - wine_quality_loss: 0.2674 - wine_type_loss: 0.0183 - wine_quality_root_mean_squared_error: 0.5174 - wine_type_accuracy: 0.9965 - val_loss: 0.3277 - val_wine_quality_loss: 0.3010 - val_wine_type_loss: 0.0258 - val_wine_quality_root_mean_squared_error: 0.5491 - val_wine_type_accuracy: 0.9949\n",
      "Epoch 143/180\n",
      "3155/3155 [==============================] - 0s 85us/sample - loss: 0.2860 - wine_quality_loss: 0.2679 - wine_type_loss: 0.0180 - wine_quality_root_mean_squared_error: 0.5176 - wine_type_accuracy: 0.9968 - val_loss: 0.3287 - val_wine_quality_loss: 0.3023 - val_wine_type_loss: 0.0258 - val_wine_quality_root_mean_squared_error: 0.5500 - val_wine_type_accuracy: 0.9949\n",
      "Epoch 144/180\n",
      "3155/3155 [==============================] - 0s 71us/sample - loss: 0.2846 - wine_quality_loss: 0.2669 - wine_type_loss: 0.0180 - wine_quality_root_mean_squared_error: 0.5163 - wine_type_accuracy: 0.9965 - val_loss: 0.3311 - val_wine_quality_loss: 0.3042 - val_wine_type_loss: 0.0258 - val_wine_quality_root_mean_squared_error: 0.5522 - val_wine_type_accuracy: 0.9949\n",
      "Epoch 145/180\n",
      "3155/3155 [==============================] - 0s 69us/sample - loss: 0.2850 - wine_quality_loss: 0.2671 - wine_type_loss: 0.0199 - wine_quality_root_mean_squared_error: 0.5168 - wine_type_accuracy: 0.9968 - val_loss: 0.3337 - val_wine_quality_loss: 0.3068 - val_wine_type_loss: 0.0258 - val_wine_quality_root_mean_squared_error: 0.5546 - val_wine_type_accuracy: 0.9949\n",
      "Epoch 146/180\n",
      "3155/3155 [==============================] - 0s 86us/sample - loss: 0.2820 - wine_quality_loss: 0.2644 - wine_type_loss: 0.0177 - wine_quality_root_mean_squared_error: 0.5140 - wine_type_accuracy: 0.9968 - val_loss: 0.3293 - val_wine_quality_loss: 0.3029 - val_wine_type_loss: 0.0258 - val_wine_quality_root_mean_squared_error: 0.5506 - val_wine_type_accuracy: 0.9949\n",
      "Epoch 147/180\n",
      "3155/3155 [==============================] - 0s 71us/sample - loss: 0.2834 - wine_quality_loss: 0.2659 - wine_type_loss: 0.0178 - wine_quality_root_mean_squared_error: 0.5154 - wine_type_accuracy: 0.9965 - val_loss: 0.3280 - val_wine_quality_loss: 0.3016 - val_wine_type_loss: 0.0257 - val_wine_quality_root_mean_squared_error: 0.5495 - val_wine_type_accuracy: 0.9949\n",
      "Epoch 148/180\n"
     ]
    },
    {
     "name": "stdout",
     "output_type": "stream",
     "text": [
      "3155/3155 [==============================] - 0s 86us/sample - loss: 0.2826 - wine_quality_loss: 0.2647 - wine_type_loss: 0.0177 - wine_quality_root_mean_squared_error: 0.5147 - wine_type_accuracy: 0.9968 - val_loss: 0.3278 - val_wine_quality_loss: 0.3014 - val_wine_type_loss: 0.0257 - val_wine_quality_root_mean_squared_error: 0.5494 - val_wine_type_accuracy: 0.9949\n",
      "Epoch 149/180\n",
      "3155/3155 [==============================] - 0s 68us/sample - loss: 0.2840 - wine_quality_loss: 0.2668 - wine_type_loss: 0.0175 - wine_quality_root_mean_squared_error: 0.5162 - wine_type_accuracy: 0.9968 - val_loss: 0.3335 - val_wine_quality_loss: 0.3070 - val_wine_type_loss: 0.0257 - val_wine_quality_root_mean_squared_error: 0.5545 - val_wine_type_accuracy: 0.9949\n",
      "Epoch 150/180\n",
      "3155/3155 [==============================] - 0s 69us/sample - loss: 0.2825 - wine_quality_loss: 0.2644 - wine_type_loss: 0.0176 - wine_quality_root_mean_squared_error: 0.5147 - wine_type_accuracy: 0.9968 - val_loss: 0.3262 - val_wine_quality_loss: 0.2999 - val_wine_type_loss: 0.0257 - val_wine_quality_root_mean_squared_error: 0.5479 - val_wine_type_accuracy: 0.9949\n",
      "Epoch 151/180\n",
      "3155/3155 [==============================] - 0s 84us/sample - loss: 0.2826 - wine_quality_loss: 0.2652 - wine_type_loss: 0.0175 - wine_quality_root_mean_squared_error: 0.5149 - wine_type_accuracy: 0.9968 - val_loss: 0.3287 - val_wine_quality_loss: 0.3022 - val_wine_type_loss: 0.0256 - val_wine_quality_root_mean_squared_error: 0.5502 - val_wine_type_accuracy: 0.9949\n",
      "Epoch 152/180\n",
      "3155/3155 [==============================] - 0s 68us/sample - loss: 0.2824 - wine_quality_loss: 0.2654 - wine_type_loss: 0.0174 - wine_quality_root_mean_squared_error: 0.5148 - wine_type_accuracy: 0.9968 - val_loss: 0.3308 - val_wine_quality_loss: 0.3043 - val_wine_type_loss: 0.0256 - val_wine_quality_root_mean_squared_error: 0.5521 - val_wine_type_accuracy: 0.9949\n",
      "Epoch 153/180\n",
      "3155/3155 [==============================] - 0s 70us/sample - loss: 0.2813 - wine_quality_loss: 0.2642 - wine_type_loss: 0.0173 - wine_quality_root_mean_squared_error: 0.5138 - wine_type_accuracy: 0.9968 - val_loss: 0.3283 - val_wine_quality_loss: 0.3023 - val_wine_type_loss: 0.0255 - val_wine_quality_root_mean_squared_error: 0.5499 - val_wine_type_accuracy: 0.9937\n",
      "Epoch 154/180\n",
      "3155/3155 [==============================] - 0s 84us/sample - loss: 0.2823 - wine_quality_loss: 0.2653 - wine_type_loss: 0.0173 - wine_quality_root_mean_squared_error: 0.5148 - wine_type_accuracy: 0.9965 - val_loss: 0.3293 - val_wine_quality_loss: 0.3031 - val_wine_type_loss: 0.0255 - val_wine_quality_root_mean_squared_error: 0.5509 - val_wine_type_accuracy: 0.9937\n",
      "Epoch 155/180\n",
      "3155/3155 [==============================] - 0s 70us/sample - loss: 0.2818 - wine_quality_loss: 0.2649 - wine_type_loss: 0.0172 - wine_quality_root_mean_squared_error: 0.5144 - wine_type_accuracy: 0.9968 - val_loss: 0.3292 - val_wine_quality_loss: 0.3028 - val_wine_type_loss: 0.0255 - val_wine_quality_root_mean_squared_error: 0.5508 - val_wine_type_accuracy: 0.9937\n",
      "Epoch 156/180\n",
      "3155/3155 [==============================] - 0s 85us/sample - loss: 0.2810 - wine_quality_loss: 0.2638 - wine_type_loss: 0.0171 - wine_quality_root_mean_squared_error: 0.5137 - wine_type_accuracy: 0.9968 - val_loss: 0.3320 - val_wine_quality_loss: 0.3058 - val_wine_type_loss: 0.0255 - val_wine_quality_root_mean_squared_error: 0.5534 - val_wine_type_accuracy: 0.9937\n",
      "Epoch 157/180\n",
      "3155/3155 [==============================] - 0s 71us/sample - loss: 0.2801 - wine_quality_loss: 0.2627 - wine_type_loss: 0.0170 - wine_quality_root_mean_squared_error: 0.5129 - wine_type_accuracy: 0.9968 - val_loss: 0.3293 - val_wine_quality_loss: 0.3029 - val_wine_type_loss: 0.0255 - val_wine_quality_root_mean_squared_error: 0.5509 - val_wine_type_accuracy: 0.9949\n",
      "Epoch 158/180\n",
      "3155/3155 [==============================] - 0s 85us/sample - loss: 0.2803 - wine_quality_loss: 0.2635 - wine_type_loss: 0.0170 - wine_quality_root_mean_squared_error: 0.5131 - wine_type_accuracy: 0.9968 - val_loss: 0.3289 - val_wine_quality_loss: 0.3027 - val_wine_type_loss: 0.0255 - val_wine_quality_root_mean_squared_error: 0.5506 - val_wine_type_accuracy: 0.9937\n",
      "Epoch 159/180\n",
      "3155/3155 [==============================] - 0s 72us/sample - loss: 0.2801 - wine_quality_loss: 0.2632 - wine_type_loss: 0.0168 - wine_quality_root_mean_squared_error: 0.5130 - wine_type_accuracy: 0.9968 - val_loss: 0.3291 - val_wine_quality_loss: 0.3028 - val_wine_type_loss: 0.0255 - val_wine_quality_root_mean_squared_error: 0.5508 - val_wine_type_accuracy: 0.9949\n",
      "Epoch 160/180\n",
      "3155/3155 [==============================] - 0s 70us/sample - loss: 0.2787 - wine_quality_loss: 0.2622 - wine_type_loss: 0.0169 - wine_quality_root_mean_squared_error: 0.5117 - wine_type_accuracy: 0.9968 - val_loss: 0.3244 - val_wine_quality_loss: 0.2982 - val_wine_type_loss: 0.0254 - val_wine_quality_root_mean_squared_error: 0.5465 - val_wine_type_accuracy: 0.9949\n",
      "Epoch 161/180\n",
      "3155/3155 [==============================] - 0s 86us/sample - loss: 0.2787 - wine_quality_loss: 0.2618 - wine_type_loss: 0.0169 - wine_quality_root_mean_squared_error: 0.5117 - wine_type_accuracy: 0.9968 - val_loss: 0.3274 - val_wine_quality_loss: 0.3012 - val_wine_type_loss: 0.0254 - val_wine_quality_root_mean_squared_error: 0.5492 - val_wine_type_accuracy: 0.9949\n",
      "Epoch 162/180\n",
      "3155/3155 [==============================] - 0s 70us/sample - loss: 0.2778 - wine_quality_loss: 0.2615 - wine_type_loss: 0.0168 - wine_quality_root_mean_squared_error: 0.5109 - wine_type_accuracy: 0.9968 - val_loss: 0.3365 - val_wine_quality_loss: 0.3104 - val_wine_type_loss: 0.0254 - val_wine_quality_root_mean_squared_error: 0.5574 - val_wine_type_accuracy: 0.9937\n",
      "Epoch 163/180\n",
      "3155/3155 [==============================] - 0s 86us/sample - loss: 0.2792 - wine_quality_loss: 0.2626 - wine_type_loss: 0.0166 - wine_quality_root_mean_squared_error: 0.5124 - wine_type_accuracy: 0.9968 - val_loss: 0.3376 - val_wine_quality_loss: 0.3115 - val_wine_type_loss: 0.0254 - val_wine_quality_root_mean_squared_error: 0.5584 - val_wine_type_accuracy: 0.9937\n",
      "Epoch 164/180\n",
      "3155/3155 [==============================] - 0s 72us/sample - loss: 0.2780 - wine_quality_loss: 0.2617 - wine_type_loss: 0.0165 - wine_quality_root_mean_squared_error: 0.5113 - wine_type_accuracy: 0.9968 - val_loss: 0.3322 - val_wine_quality_loss: 0.3061 - val_wine_type_loss: 0.0254 - val_wine_quality_root_mean_squared_error: 0.5537 - val_wine_type_accuracy: 0.9937\n",
      "Epoch 165/180\n",
      "3155/3155 [==============================] - 0s 86us/sample - loss: 0.2767 - wine_quality_loss: 0.2606 - wine_type_loss: 0.0166 - wine_quality_root_mean_squared_error: 0.5100 - wine_type_accuracy: 0.9971 - val_loss: 0.3390 - val_wine_quality_loss: 0.3126 - val_wine_type_loss: 0.0254 - val_wine_quality_root_mean_squared_error: 0.5597 - val_wine_type_accuracy: 0.9937\n",
      "Epoch 166/180\n",
      "3155/3155 [==============================] - 0s 71us/sample - loss: 0.2769 - wine_quality_loss: 0.2599 - wine_type_loss: 0.0165 - wine_quality_root_mean_squared_error: 0.5103 - wine_type_accuracy: 0.9968 - val_loss: 0.3279 - val_wine_quality_loss: 0.3017 - val_wine_type_loss: 0.0254 - val_wine_quality_root_mean_squared_error: 0.5497 - val_wine_type_accuracy: 0.9937\n",
      "Epoch 167/180\n",
      "3155/3155 [==============================] - 0s 87us/sample - loss: 0.2756 - wine_quality_loss: 0.2591 - wine_type_loss: 0.0165 - wine_quality_root_mean_squared_error: 0.5090 - wine_type_accuracy: 0.9971 - val_loss: 0.3278 - val_wine_quality_loss: 0.3018 - val_wine_type_loss: 0.0254 - val_wine_quality_root_mean_squared_error: 0.5496 - val_wine_type_accuracy: 0.9937\n",
      "Epoch 168/180\n",
      "3155/3155 [==============================] - 0s 69us/sample - loss: 0.2771 - wine_quality_loss: 0.2605 - wine_type_loss: 0.0164 - wine_quality_root_mean_squared_error: 0.5106 - wine_type_accuracy: 0.9968 - val_loss: 0.3290 - val_wine_quality_loss: 0.3029 - val_wine_type_loss: 0.0253 - val_wine_quality_root_mean_squared_error: 0.5507 - val_wine_type_accuracy: 0.9937\n",
      "Epoch 169/180\n"
     ]
    },
    {
     "name": "stdout",
     "output_type": "stream",
     "text": [
      "3155/3155 [==============================] - 0s 70us/sample - loss: 0.2766 - wine_quality_loss: 0.2602 - wine_type_loss: 0.0163 - wine_quality_root_mean_squared_error: 0.5101 - wine_type_accuracy: 0.9968 - val_loss: 0.3308 - val_wine_quality_loss: 0.3048 - val_wine_type_loss: 0.0254 - val_wine_quality_root_mean_squared_error: 0.5524 - val_wine_type_accuracy: 0.9937\n",
      "Epoch 170/180\n",
      "3155/3155 [==============================] - 0s 83us/sample - loss: 0.2761 - wine_quality_loss: 0.2601 - wine_type_loss: 0.0162 - wine_quality_root_mean_squared_error: 0.5097 - wine_type_accuracy: 0.9971 - val_loss: 0.3328 - val_wine_quality_loss: 0.3066 - val_wine_type_loss: 0.0254 - val_wine_quality_root_mean_squared_error: 0.5542 - val_wine_type_accuracy: 0.9937\n",
      "Epoch 171/180\n",
      "3155/3155 [==============================] - 0s 70us/sample - loss: 0.2750 - wine_quality_loss: 0.2581 - wine_type_loss: 0.0168 - wine_quality_root_mean_squared_error: 0.5086 - wine_type_accuracy: 0.9971 - val_loss: 0.3350 - val_wine_quality_loss: 0.3089 - val_wine_type_loss: 0.0254 - val_wine_quality_root_mean_squared_error: 0.5561 - val_wine_type_accuracy: 0.9937\n",
      "Epoch 172/180\n",
      "3155/3155 [==============================] - 0s 84us/sample - loss: 0.2761 - wine_quality_loss: 0.2604 - wine_type_loss: 0.0161 - wine_quality_root_mean_squared_error: 0.5098 - wine_type_accuracy: 0.9968 - val_loss: 0.3323 - val_wine_quality_loss: 0.3062 - val_wine_type_loss: 0.0254 - val_wine_quality_root_mean_squared_error: 0.5537 - val_wine_type_accuracy: 0.9949\n",
      "Epoch 173/180\n",
      "3155/3155 [==============================] - 0s 71us/sample - loss: 0.2752 - wine_quality_loss: 0.2600 - wine_type_loss: 0.0161 - wine_quality_root_mean_squared_error: 0.5090 - wine_type_accuracy: 0.9971 - val_loss: 0.3298 - val_wine_quality_loss: 0.3041 - val_wine_type_loss: 0.0254 - val_wine_quality_root_mean_squared_error: 0.5514 - val_wine_type_accuracy: 0.9937\n",
      "Epoch 174/180\n",
      "3155/3155 [==============================] - 0s 69us/sample - loss: 0.2745 - wine_quality_loss: 0.2585 - wine_type_loss: 0.0160 - wine_quality_root_mean_squared_error: 0.5084 - wine_type_accuracy: 0.9971 - val_loss: 0.3290 - val_wine_quality_loss: 0.3027 - val_wine_type_loss: 0.0254 - val_wine_quality_root_mean_squared_error: 0.5507 - val_wine_type_accuracy: 0.9937\n",
      "Epoch 175/180\n",
      "3155/3155 [==============================] - 0s 83us/sample - loss: 0.2732 - wine_quality_loss: 0.2577 - wine_type_loss: 0.0160 - wine_quality_root_mean_squared_error: 0.5071 - wine_type_accuracy: 0.9971 - val_loss: 0.3344 - val_wine_quality_loss: 0.3083 - val_wine_type_loss: 0.0254 - val_wine_quality_root_mean_squared_error: 0.5556 - val_wine_type_accuracy: 0.9937\n",
      "Epoch 176/180\n",
      "3155/3155 [==============================] - 0s 69us/sample - loss: 0.2740 - wine_quality_loss: 0.2581 - wine_type_loss: 0.0159 - wine_quality_root_mean_squared_error: 0.5080 - wine_type_accuracy: 0.9971 - val_loss: 0.3354 - val_wine_quality_loss: 0.3096 - val_wine_type_loss: 0.0253 - val_wine_quality_root_mean_squared_error: 0.5565 - val_wine_type_accuracy: 0.9937\n",
      "Epoch 177/180\n",
      "3155/3155 [==============================] - 0s 70us/sample - loss: 0.2731 - wine_quality_loss: 0.2570 - wine_type_loss: 0.0158 - wine_quality_root_mean_squared_error: 0.5071 - wine_type_accuracy: 0.9971 - val_loss: 0.3423 - val_wine_quality_loss: 0.3164 - val_wine_type_loss: 0.0253 - val_wine_quality_root_mean_squared_error: 0.5628 - val_wine_type_accuracy: 0.9937\n",
      "Epoch 178/180\n",
      "3155/3155 [==============================] - 0s 84us/sample - loss: 0.2734 - wine_quality_loss: 0.2582 - wine_type_loss: 0.0157 - wine_quality_root_mean_squared_error: 0.5076 - wine_type_accuracy: 0.9971 - val_loss: 0.3357 - val_wine_quality_loss: 0.3093 - val_wine_type_loss: 0.0253 - val_wine_quality_root_mean_squared_error: 0.5569 - val_wine_type_accuracy: 0.9937\n",
      "Epoch 179/180\n",
      "3155/3155 [==============================] - 0s 71us/sample - loss: 0.2732 - wine_quality_loss: 0.2577 - wine_type_loss: 0.0157 - wine_quality_root_mean_squared_error: 0.5074 - wine_type_accuracy: 0.9971 - val_loss: 0.3281 - val_wine_quality_loss: 0.3021 - val_wine_type_loss: 0.0253 - val_wine_quality_root_mean_squared_error: 0.5500 - val_wine_type_accuracy: 0.9937\n",
      "Epoch 180/180\n",
      "3155/3155 [==============================] - 0s 87us/sample - loss: 0.2719 - wine_quality_loss: 0.2557 - wine_type_loss: 0.0156 - wine_quality_root_mean_squared_error: 0.5062 - wine_type_accuracy: 0.9971 - val_loss: 0.3291 - val_wine_quality_loss: 0.3032 - val_wine_type_loss: 0.0253 - val_wine_quality_root_mean_squared_error: 0.5509 - val_wine_type_accuracy: 0.9937\n"
     ]
    }
   ],
   "source": [
    "## Please uncomment all lines in this cell and replace those marked with `# YOUR CODE HERE`.\n",
    "## You can select all lines in this code cell with Ctrl+A (Windows/Linux) or Cmd+A (Mac), then press Ctrl+/ (Windows/Linux) or Cmd+/ (Mac) to uncomment.\n",
    "\n",
    "\n",
    "\n",
    "history = model.fit(norm_train_X, train_Y,\n",
    "                    epochs = 180, validation_data=(norm_val_X, val_Y))"
   ]
  },
  {
   "cell_type": "code",
   "execution_count": 43,
   "metadata": {
    "deletable": false,
    "editable": false,
    "nbgrader": {
     "cell_type": "code",
     "checksum": "fadad8896eda9c8c2115970724b15508",
     "grade": true,
     "grade_id": "cell-eb4d5b41bef8f0ab",
     "locked": true,
     "points": 1,
     "schema_version": 3,
     "solution": false,
     "task": false
    }
   },
   "outputs": [
    {
     "name": "stdout",
     "output_type": "stream",
     "text": [
      "\u001b[92m All public tests passed\n"
     ]
    }
   ],
   "source": [
    "utils.test_history(history)"
   ]
  },
  {
   "cell_type": "code",
   "execution_count": 44,
   "metadata": {
    "colab": {},
    "colab_type": "code",
    "id": "CubF2J2gSf6q"
   },
   "outputs": [
    {
     "name": "stdout",
     "output_type": "stream",
     "text": [
      "789/789 [==============================] - 0s 57us/sample - loss: 0.3291 - wine_quality_loss: 0.3032 - wine_type_loss: 0.0253 - wine_quality_root_mean_squared_error: 0.5509 - wine_type_accuracy: 0.9937\n",
      "\n",
      "loss: 0.32909031206664024\n",
      "wine_quality_loss: 0.3031701147556305\n",
      "wine_type_loss: 0.025293027982115746\n",
      "wine_quality_rmse: 0.5508863925933838\n",
      "wine_type_accuracy: 0.9936628937721252\n"
     ]
    }
   ],
   "source": [
    "# Gather the training metrics\n",
    "loss, wine_quality_loss, wine_type_loss, wine_quality_rmse, wine_type_accuracy = model.evaluate(x=norm_val_X, y=val_Y)\n",
    "\n",
    "print()\n",
    "print(f'loss: {loss}')\n",
    "print(f'wine_quality_loss: {wine_quality_loss}')\n",
    "print(f'wine_type_loss: {wine_type_loss}')\n",
    "print(f'wine_quality_rmse: {wine_quality_rmse}')\n",
    "print(f'wine_type_accuracy: {wine_type_accuracy}')\n",
    "\n",
    "# EXPECTED VALUES\n",
    "# ~ 0.30 - 0.38\n",
    "# ~ 0.30 - 0.38\n",
    "# ~ 0.018 - 0.030\n",
    "# ~ 0.50 - 0.62\n",
    "# ~ 0.97 - 1.0\n",
    "\n",
    "# Example:\n",
    "#0.3657050132751465\n",
    "#0.3463745415210724\n",
    "#0.019330406561493874\n",
    "#0.5885359048843384\n",
    "#0.9974651336669922"
   ]
  },
  {
   "cell_type": "markdown",
   "metadata": {
    "colab_type": "text",
    "id": "gPtTGAP4usnm"
   },
   "source": [
    "## Analyze the Model Performance\n",
    "\n",
    "Note that the model has two outputs. The output at index 0 is quality and index 1 is wine type\n",
    "\n",
    "So, round the quality predictions to the nearest integer."
   ]
  },
  {
   "cell_type": "code",
   "execution_count": 45,
   "metadata": {
    "colab": {},
    "colab_type": "code",
    "id": "tBq9PEeAaW-Y"
   },
   "outputs": [],
   "source": [
    "predictions = model.predict(norm_test_X)\n",
    "quality_pred = predictions[0]\n",
    "type_pred = predictions[1]"
   ]
  },
  {
   "cell_type": "code",
   "execution_count": 46,
   "metadata": {
    "colab": {},
    "colab_type": "code",
    "id": "YLhgTR4xTIxj"
   },
   "outputs": [
    {
     "name": "stdout",
     "output_type": "stream",
     "text": [
      "[5.5924435]\n"
     ]
    }
   ],
   "source": [
    "print(quality_pred[0])\n",
    "\n",
    "# EXPECTED OUTPUT\n",
    "# 5.6 - 6.0"
   ]
  },
  {
   "cell_type": "code",
   "execution_count": 47,
   "metadata": {
    "colab": {},
    "colab_type": "code",
    "id": "MPi-eYfGTUXi"
   },
   "outputs": [
    {
     "name": "stdout",
     "output_type": "stream",
     "text": [
      "[0.00014656]\n",
      "[0.9999969]\n"
     ]
    }
   ],
   "source": [
    "print(type_pred[0])\n",
    "print(type_pred[944])\n",
    "\n",
    "# EXPECTED OUTPUT\n",
    "# A number close to zero\n",
    "# A number close to or equal to 1"
   ]
  },
  {
   "cell_type": "markdown",
   "metadata": {
    "colab_type": "text",
    "id": "Kohk-9C6vt_s"
   },
   "source": [
    "### Plot Utilities\n",
    "\n",
    "We define a few utilities to visualize the model performance."
   ]
  },
  {
   "cell_type": "code",
   "execution_count": 48,
   "metadata": {
    "colab": {},
    "colab_type": "code",
    "id": "62gEOFUhn6aQ"
   },
   "outputs": [],
   "source": [
    "def plot_metrics(metric_name, title, ylim=5):\n",
    "    plt.title(title)\n",
    "    plt.ylim(0,ylim)\n",
    "    plt.plot(history.history[metric_name],color='blue',label=metric_name)\n",
    "    plt.plot(history.history['val_' + metric_name],color='green',label='val_' + metric_name)\n"
   ]
  },
  {
   "cell_type": "code",
   "execution_count": 49,
   "metadata": {
    "colab": {},
    "colab_type": "code",
    "id": "6rfgSx7uz5dj"
   },
   "outputs": [],
   "source": [
    "def plot_confusion_matrix(y_true, y_pred, title='', labels=[0,1]):\n",
    "    cm = confusion_matrix(y_true, y_pred)\n",
    "    fig = plt.figure()\n",
    "    ax = fig.add_subplot(111)\n",
    "    cax = ax.matshow(cm)\n",
    "    plt.title('Confusion matrix of the classifier')\n",
    "    fig.colorbar(cax)\n",
    "    ax.set_xticklabels([''] + labels)\n",
    "    ax.set_yticklabels([''] + labels)\n",
    "    plt.xlabel('Predicted')\n",
    "    plt.ylabel('True')\n",
    "    fmt = 'd'\n",
    "    thresh = cm.max() / 2.\n",
    "    for i, j in itertools.product(range(cm.shape[0]), range(cm.shape[1])):\n",
    "          plt.text(j, i, format(cm[i, j], fmt),\n",
    "                  horizontalalignment=\"center\",\n",
    "                  color=\"black\" if cm[i, j] > thresh else \"white\")\n",
    "    plt.show()"
   ]
  },
  {
   "cell_type": "code",
   "execution_count": 50,
   "metadata": {
    "colab": {},
    "colab_type": "code",
    "id": "dfVLIqi017Vf"
   },
   "outputs": [],
   "source": [
    "def plot_diff(y_true, y_pred, title = '' ):\n",
    "    plt.scatter(y_true, y_pred)\n",
    "    plt.title(title)\n",
    "    plt.xlabel('True Values')\n",
    "    plt.ylabel('Predictions')\n",
    "    plt.axis('equal')\n",
    "    plt.axis('square')\n",
    "    plt.plot([-100, 100], [-100, 100])\n",
    "    return plt"
   ]
  },
  {
   "cell_type": "markdown",
   "metadata": {
    "colab_type": "text",
    "id": "8sd1jdFbwE0I"
   },
   "source": [
    "### Plots for Metrics"
   ]
  },
  {
   "cell_type": "code",
   "execution_count": 51,
   "metadata": {
    "colab": {},
    "colab_type": "code",
    "id": "f3MwZ5J1pOfj"
   },
   "outputs": [
    {
     "data": {
      "image/png": "[encoded data removed]",
      "text/plain": [
       "<Figure size 432x288 with 1 Axes>"
      ]
     },
     "metadata": {
      "needs_background": "light"
     },
     "output_type": "display_data"
    }
   ],
   "source": [
    "plot_metrics('wine_quality_root_mean_squared_error', 'RMSE', ylim=2)"
   ]
  },
  {
   "cell_type": "code",
   "execution_count": 52,
   "metadata": {
    "colab": {},
    "colab_type": "code",
    "id": "QIAxEezCppnd"
   },
   "outputs": [
    {
     "data": {
      "image/png": "[encoded data removed]",
      "text/plain": [
       "<Figure size 432x288 with 1 Axes>"
      ]
     },
     "metadata": {
      "needs_background": "light"
     },
     "output_type": "display_data"
    }
   ],
   "source": [
    "plot_metrics('wine_type_loss', 'Wine Type Loss', ylim=0.2)"
   ]
  },
  {
   "cell_type": "markdown",
   "metadata": {
    "colab_type": "text",
    "id": "uYV9AOAMwI9p"
   },
   "source": [
    "### Plots for Confusion Matrix\n",
    "\n",
    "Plot the confusion matrices for wine type. You can see that the model performs well for prediction of wine type from the confusion matrix and the loss metrics."
   ]
  },
  {
   "cell_type": "code",
   "execution_count": 53,
   "metadata": {
    "colab": {},
    "colab_type": "code",
    "id": "C3hvTYxIaf3n"
   },
   "outputs": [
    {
     "data": {
      "image/png": "[encoded data removed]",
      "text/plain": [
       "<Figure size 432x288 with 2 Axes>"
      ]
     },
     "metadata": {
      "needs_background": "light"
     },
     "output_type": "display_data"
    }
   ],
   "source": [
    "plot_confusion_matrix(test_Y[1], np.round(type_pred), title='Wine Type', labels = [0, 1])"
   ]
  },
  {
   "cell_type": "code",
   "execution_count": 54,
   "metadata": {
    "colab": {},
    "colab_type": "code",
    "id": "GW91ym8P2I5y"
   },
   "outputs": [
    {
     "data": {
      "image/png": "[encoded data removed]",
      "text/plain": [
       "<Figure size 432x288 with 1 Axes>"
      ]
     },
     "metadata": {
      "needs_background": "light"
     },
     "output_type": "display_data"
    }
   ],
   "source": [
    "scatter_plot = plot_diff(test_Y[0], quality_pred, title='Type')"
   ]
  },
  {
   "cell_type": "code",
   "execution_count": null,
   "metadata": {},
   "outputs": [],
   "source": []
  }
 ],
 "metadata": {
  "colab": {
   "include_colab_link": true,
   "name": "exercise-answer.ipynb",
   "provenance": []
  },
  "kernelspec": {
   "display_name": "Python 3",
   "language": "python",
   "name": "python3"
  },
  "language_info": {
   "codemirror_mode": {
    "name": "ipython",
    "version": 3
   },
   "file_extension": ".py",
   "mimetype": "text/x-python",
   "name": "python",
   "nbconvert_exporter": "python",
   "pygments_lexer": "ipython3",
   "version": "3.7.6"
  }
 },
 "nbformat": 4,
 "nbformat_minor": 4
}
